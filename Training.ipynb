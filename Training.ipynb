{
  "nbformat": 4,
  "nbformat_minor": 0,
  "metadata": {
    "colab": {
      "name": "Training.ipynb",
      "provenance": [],
      "mount_file_id": "1aitKm0CdIIXs2z7CDg4kwKWaYRmG6k48",
      "authorship_tag": "ABX9TyOl7VU0E3N1CuAzo4bMmdAh",
      "include_colab_link": true
    },
    "kernelspec": {
      "name": "python3",
      "display_name": "Python 3"
    },
    "accelerator": "GPU"
  },
  "cells": [
    {
      "cell_type": "markdown",
      "metadata": {
        "id": "view-in-github",
        "colab_type": "text"
      },
      "source": [
        "<a href=\"https://colab.research.google.com/github/anasali0006/FaceForesics-Deepfakes-Detection/blob/main/Training.ipynb\" target=\"_parent\"><img src=\"https://colab.research.google.com/assets/colab-badge.svg\" alt=\"Open In Colab\"/></a>"
      ]
    },
    {
      "cell_type": "code",
      "metadata": {
        "id": "YkbsAwzLFep4"
      },
      "source": [
        "import tensorflow as tf\n",
        "import numpy as np\n",
        "import pickle\n",
        "#import cv2\n",
        "from google.colab.patches import cv2_imshow\n",
        "#import PIL\n",
        "import datetime\n",
        "import os"
      ],
      "execution_count": null,
      "outputs": []
    },
    {
      "cell_type": "code",
      "metadata": {
        "id": "ETNFi904_84h"
      },
      "source": [
        "!pip install wandb\n",
        "import wandb\n",
        "wandb.init()"
      ],
      "execution_count": null,
      "outputs": []
    },
    {
      "cell_type": "markdown",
      "metadata": {
        "id": "6Hk7PgjzHRFp"
      },
      "source": [
        "GPU Status"
      ]
    },
    {
      "cell_type": "code",
      "metadata": {
        "id": "znEpyVxfHQ1C"
      },
      "source": [
        "!ln -sf /opt/bin/nvidia-smi /usr/bin/nvidia-smi\n",
        "!pip install gputil\n",
        "!pip install psutil\n",
        "!pip install humanize\n",
        "\n",
        "import psutil\n",
        "import humanize\n",
        "import os\n",
        "import GPUtil as GPU\n",
        "GPUs = GPU.getGPUs()\n",
        "\n"
      ],
      "execution_count": null,
      "outputs": []
    },
    {
      "cell_type": "code",
      "metadata": {
        "colab": {
          "base_uri": "https://localhost:8080/"
        },
        "id": "R4VtSmGPHjfh",
        "outputId": "41c5f0f0-ace7-4851-ccf6-38693731e248"
      },
      "source": [
        "# XXX: only one GPU on Colab and isn’t guaranteed\n",
        "gpu = GPUs[0]\n",
        "def printm():\n",
        "  process = psutil.Process(os.getpid())\n",
        "  print(\"Gen RAM Free: \" + humanize.naturalsize( psutil.virtual_memory().available ), \" | Proc size: \" + humanize.naturalsize( process.memory_info().rss))\n",
        "  print(\"GPU RAM Free: {0:.0f}MB | Used: {1:.0f}MB | Util {2:3.0f}% | Total {3:.0f}MB\".format(gpu.memoryFree, gpu.memoryUsed, gpu.memoryUtil*100, gpu.memoryTotal))\n",
        "\n",
        "printm()"
      ],
      "execution_count": null,
      "outputs": [
        {
          "output_type": "stream",
          "text": [
            "Gen RAM Free: 12.8 GB  | Proc size: 113.0 MB\n",
            "GPU RAM Free: 15079MB | Used: 0MB | Util   0% | Total 15079MB\n"
          ],
          "name": "stdout"
        }
      ]
    },
    {
      "cell_type": "code",
      "metadata": {
        "id": "3bIPl0WBHxe0"
      },
      "source": [
        ""
      ],
      "execution_count": null,
      "outputs": []
    },
    {
      "cell_type": "markdown",
      "metadata": {
        "id": "wa7agDieFw7A"
      },
      "source": [
        "**Getting the video data from drive**\n"
      ]
    },
    {
      "cell_type": "code",
      "metadata": {
        "id": "zjjCi75QFwMP"
      },
      "source": [
        "!cp -r /content/drive/MyDrive/ML-DeepFakes-Detection/saved-arrays /content/video_data"
      ],
      "execution_count": null,
      "outputs": []
    },
    {
      "cell_type": "code",
      "metadata": {
        "id": "vIwhKbUvIcEY"
      },
      "source": [
        "#load real images\n",
        "dir='/content/video_data/'\n",
        "real='real'\n",
        "fake='fake'\n",
        "real_array=np.zeros((1,100,100,3))\n",
        "for i in range(1,25):\n",
        "  dir_real=dir + real + str(i)\n",
        "  with open(dir_real, 'rb') as f:\n",
        "    new_array = pickle.load(f)\n",
        "  truncated_array = new_array[1:,:,:,:]\n",
        "  real_array=np.append(real_array, truncated_array, axis=0)\n",
        "  \n",
        "real_array=real_array[1:,:,:,:]\n",
        "  # Python 3: open(..., 'rb')\n",
        "f.close()"
      ],
      "execution_count": null,
      "outputs": []
    },
    {
      "cell_type": "code",
      "metadata": {
        "id": "tBRbRC4usXnM"
      },
      "source": [
        "#load fake images\n",
        "dir='/content/video_data/'\n",
        "real='real'\n",
        "fake='fake'\n",
        "fake_array=np.zeros((1,100,100,3))\n",
        "for i in range(1,25):\n",
        "  dir_fake=dir + fake + str(i)\n",
        "  with open(dir_fake, 'rb') as f:\n",
        "    new_array = pickle.load(f)\n",
        "  truncated_array = new_array[1:,:,:,:]\n",
        "  fake_array=np.append(fake_array, truncated_array, axis=0)\n",
        "  \n",
        "fake_array=fake_array[1:,:,:,:]\n",
        "f.close()"
      ],
      "execution_count": null,
      "outputs": []
    },
    {
      "cell_type": "markdown",
      "metadata": {
        "id": "4twL0vP3fyCa"
      },
      "source": [
        "**Preprocessing the Data**"
      ]
    },
    {
      "cell_type": "code",
      "metadata": {
        "id": "PQStzlOuvNh0"
      },
      "source": [
        "#real images are labelled 1\n",
        "#fake images are labelled 0\n",
        "\n",
        "real_label=np.ones((len(real_array)))\n",
        "fake_label=np.zeros((len(fake_array)))\n"
      ],
      "execution_count": null,
      "outputs": []
    },
    {
      "cell_type": "code",
      "metadata": {
        "id": "r3oMvnWm9Glx"
      },
      "source": [
        "train_examples=np.vstack([real_array, fake_array])\n",
        "train_labels0=np.hstack([real_label, fake_label])\n",
        "train_labels=tf.keras.utils.to_categorical(train_labels0, num_classes=2)"
      ],
      "execution_count": null,
      "outputs": []
    },
    {
      "cell_type": "code",
      "metadata": {
        "colab": {
          "base_uri": "https://localhost:8080/"
        },
        "id": "0fjSTayL7NCh",
        "outputId": "42dc487c-9261-4f37-b2d9-a06defe5c2c2"
      },
      "source": [
        "print(train_labels)"
      ],
      "execution_count": null,
      "outputs": [
        {
          "output_type": "stream",
          "text": [
            "[[0. 1.]\n",
            " [0. 1.]\n",
            " [0. 1.]\n",
            " ...\n",
            " [1. 0.]\n",
            " [1. 0.]\n",
            " [1. 0.]]\n"
          ],
          "name": "stdout"
        }
      ]
    },
    {
      "cell_type": "code",
      "metadata": {
        "id": "rnjk4f0rA893"
      },
      "source": [
        "#delete the redundant variables to free up ram\n",
        "del(real_array)\n",
        "del(fake_array)\n",
        "del(real_label)\n",
        "del(fake_label)"
      ],
      "execution_count": null,
      "outputs": []
    },
    {
      "cell_type": "markdown",
      "metadata": {
        "id": "1kIc5i3ogag_"
      },
      "source": [
        "**Converting numpy arrays into Tensors**"
      ]
    },
    {
      "cell_type": "code",
      "metadata": {
        "id": "f8ikREo5S_79"
      },
      "source": [
        "train_tensor_examples=tf.convert_to_tensor(train_examples)\n",
        "train_tensor_labels=tf.convert_to_tensor(train_labels)"
      ],
      "execution_count": null,
      "outputs": []
    },
    {
      "cell_type": "code",
      "metadata": {
        "colab": {
          "base_uri": "https://localhost:8080/"
        },
        "id": "t5C63LzVTgBJ",
        "outputId": "297efc1b-c07e-45c5-f09c-4b6420bf4364"
      },
      "source": [
        "train_tensor_labels.get_shape()"
      ],
      "execution_count": null,
      "outputs": [
        {
          "output_type": "execute_result",
          "data": {
            "text/plain": [
              "TensorShape([11106, 2])"
            ]
          },
          "metadata": {
            "tags": []
          },
          "execution_count": 10
        }
      ]
    },
    {
      "cell_type": "markdown",
      "metadata": {
        "id": "265qgpk3giIL"
      },
      "source": [
        "**Creating Dataset**"
      ]
    },
    {
      "cell_type": "code",
      "metadata": {
        "id": "mhyU-d8-3Nm2"
      },
      "source": [
        "#converting to tf.data.Dataset format\n",
        "train_dataset = tf.data.Dataset.from_tensor_slices((train_tensor_examples, train_tensor_labels))\n",
        "#train_dataset.element_spec"
      ],
      "execution_count": null,
      "outputs": []
    },
    {
      "cell_type": "code",
      "metadata": {
        "id": "VS3FMLQGCUI_"
      },
      "source": [
        "del(train_labels0)\n",
        "del(train_examples)\n",
        "del(train_labels)\n",
        "del(train_tensor_examples)\n",
        "del(train_tensor_labels)"
      ],
      "execution_count": null,
      "outputs": []
    },
    {
      "cell_type": "markdown",
      "metadata": {
        "id": "RJTrpNe3gqXe"
      },
      "source": [
        "**Shuffling the Data**"
      ]
    },
    {
      "cell_type": "code",
      "metadata": {
        "id": "PoO2iTyA-nsQ"
      },
      "source": [
        "train_dataset=train_dataset.shuffle(buffer_size=1000, seed=123 )"
      ],
      "execution_count": null,
      "outputs": []
    },
    {
      "cell_type": "markdown",
      "metadata": {
        "id": "lc1O5DpRguMI"
      },
      "source": [
        "**Creating Validation and Train split**"
      ]
    },
    {
      "cell_type": "code",
      "metadata": {
        "id": "HiJU6LZCPbhR"
      },
      "source": [
        "#make validation and training split\n",
        "#taking 1000 images for validation\n",
        "val_data=train_dataset.take(1000)\n",
        "train_dataset=train_dataset.skip(1000)"
      ],
      "execution_count": null,
      "outputs": []
    },
    {
      "cell_type": "markdown",
      "metadata": {
        "id": "xTLTJwIggovI"
      },
      "source": [
        "**Creating Batches**"
      ]
    },
    {
      "cell_type": "code",
      "metadata": {
        "id": "cBRDSJyNHPtR"
      },
      "source": [
        "train_dataset=train_dataset.batch(batch_size=32)\n",
        "val_data=val_data.batch(32)"
      ],
      "execution_count": null,
      "outputs": []
    },
    {
      "cell_type": "code",
      "metadata": {
        "colab": {
          "base_uri": "https://localhost:8080/"
        },
        "id": "MOoNmHThAvh6",
        "outputId": "65f90319-dd71-460b-de23-f5ebbb6811e7"
      },
      "source": [
        "#checking the shapes of dataset\n",
        "for x, y in train_dataset:\n",
        "  print (x.shape)\n",
        "  print (y.shape)\n",
        "  break"
      ],
      "execution_count": null,
      "outputs": [
        {
          "output_type": "stream",
          "text": [
            "(32, 100, 100, 3)\n",
            "(32, 2)\n"
          ],
          "name": "stdout"
        }
      ]
    },
    {
      "cell_type": "markdown",
      "metadata": {
        "id": "lbtFdtu1g_4y"
      },
      "source": [
        "**Visualizing the Data**"
      ]
    },
    {
      "cell_type": "code",
      "metadata": {
        "id": "MIF-sQhYHvGS"
      },
      "source": [
        "#visualizing the data\n",
        "import matplotlib.pyplot as plt\n",
        "\n",
        "\n",
        "plt.figure(figsize=(10, 10))\n",
        "for images, labels in train_dataset.take(1):\n",
        "  for i in range(9):\n",
        "    ax = plt.subplot(3, 3, i + 1)\n",
        "    plt.imshow(images[i].numpy().astype(\"uint8\"))\n",
        "    plt.title([labels[i]])\n",
        "    plt.axis(\"off\")\n"
      ],
      "execution_count": null,
      "outputs": []
    },
    {
      "cell_type": "code",
      "metadata": {
        "colab": {
          "base_uri": "https://localhost:8080/",
          "height": 116
        },
        "id": "wpaF-9WZajST",
        "outputId": "d99fc7b2-b84b-4b1f-c9fe-48eabaab6eb4"
      },
      "source": [
        "cv2_imshow(images[5].numpy())"
      ],
      "execution_count": null,
      "outputs": [
        {
          "output_type": "display_data",
          "data": {
            "image/png": "[encoded data removed]",
            "text/plain": [
              "<PIL.Image.Image image mode=RGB size=100x100 at 0x7F44B1A88278>"
            ]
          },
          "metadata": {
            "tags": []
          }
        }
      ]
    },
    {
      "cell_type": "markdown",
      "metadata": {
        "id": "etLWvu8dhEKn"
      },
      "source": [
        "**Importing the Model**"
      ]
    },
    {
      "cell_type": "code",
      "metadata": {
        "colab": {
          "base_uri": "https://localhost:8080/"
        },
        "id": "pCnjoynJcalD",
        "outputId": "f53c140e-fdff-4de9-9620-84e6f47e96e2"
      },
      "source": [
        "from tensorflow.keras.applications import Xception\n",
        "base_model=Xception( include_top=False, weights='imagenet')"
      ],
      "execution_count": null,
      "outputs": [
        {
          "output_type": "stream",
          "text": [
            "Downloading data from https://storage.googleapis.com/tensorflow/keras-applications/xception/xception_weights_tf_dim_ordering_tf_kernels_notop.h5\n",
            "83689472/83683744 [==============================] - 1s 0us/step\n"
          ],
          "name": "stdout"
        }
      ]
    },
    {
      "cell_type": "code",
      "metadata": {
        "colab": {
          "base_uri": "https://localhost:8080/"
        },
        "id": "sLLO-UoHiojs",
        "outputId": "8e0c8bd1-d9dc-4698-a33e-b2d60548ecac"
      },
      "source": [
        "base_model.summary()"
      ],
      "execution_count": null,
      "outputs": [
        {
          "output_type": "stream",
          "text": [
            "Model: \"xception\"\n",
            "__________________________________________________________________________________________________\n",
            "Layer (type)                    Output Shape         Param #     Connected to                     \n",
            "==================================================================================================\n",
            "input_7 (InputLayer)            [(None, None, None,  0                                            \n",
            "__________________________________________________________________________________________________\n",
            "block1_conv1 (Conv2D)           (None, None, None, 3 864         input_7[0][0]                    \n",
            "__________________________________________________________________________________________________\n",
            "block1_conv1_bn (BatchNormaliza (None, None, None, 3 128         block1_conv1[0][0]               \n",
            "__________________________________________________________________________________________________\n",
            "block1_conv1_act (Activation)   (None, None, None, 3 0           block1_conv1_bn[0][0]            \n",
            "__________________________________________________________________________________________________\n",
            "block1_conv2 (Conv2D)           (None, None, None, 6 18432       block1_conv1_act[0][0]           \n",
            "__________________________________________________________________________________________________\n",
            "block1_conv2_bn (BatchNormaliza (None, None, None, 6 256         block1_conv2[0][0]               \n",
            "__________________________________________________________________________________________________\n",
            "block1_conv2_act (Activation)   (None, None, None, 6 0           block1_conv2_bn[0][0]            \n",
            "__________________________________________________________________________________________________\n",
            "block2_sepconv1 (SeparableConv2 (None, None, None, 1 8768        block1_conv2_act[0][0]           \n",
            "__________________________________________________________________________________________________\n",
            "block2_sepconv1_bn (BatchNormal (None, None, None, 1 512         block2_sepconv1[0][0]            \n",
            "__________________________________________________________________________________________________\n",
            "block2_sepconv2_act (Activation (None, None, None, 1 0           block2_sepconv1_bn[0][0]         \n",
            "__________________________________________________________________________________________________\n",
            "block2_sepconv2 (SeparableConv2 (None, None, None, 1 17536       block2_sepconv2_act[0][0]        \n",
            "__________________________________________________________________________________________________\n",
            "block2_sepconv2_bn (BatchNormal (None, None, None, 1 512         block2_sepconv2[0][0]            \n",
            "__________________________________________________________________________________________________\n",
            "conv2d_12 (Conv2D)              (None, None, None, 1 8192        block1_conv2_act[0][0]           \n",
            "__________________________________________________________________________________________________\n",
            "block2_pool (MaxPooling2D)      (None, None, None, 1 0           block2_sepconv2_bn[0][0]         \n",
            "__________________________________________________________________________________________________\n",
            "batch_normalization_12 (BatchNo (None, None, None, 1 512         conv2d_12[0][0]                  \n",
            "__________________________________________________________________________________________________\n",
            "add_36 (Add)                    (None, None, None, 1 0           block2_pool[0][0]                \n",
            "                                                                 batch_normalization_12[0][0]     \n",
            "__________________________________________________________________________________________________\n",
            "block3_sepconv1_act (Activation (None, None, None, 1 0           add_36[0][0]                     \n",
            "__________________________________________________________________________________________________\n",
            "block3_sepconv1 (SeparableConv2 (None, None, None, 2 33920       block3_sepconv1_act[0][0]        \n",
            "__________________________________________________________________________________________________\n",
            "block3_sepconv1_bn (BatchNormal (None, None, None, 2 1024        block3_sepconv1[0][0]            \n",
            "__________________________________________________________________________________________________\n",
            "block3_sepconv2_act (Activation (None, None, None, 2 0           block3_sepconv1_bn[0][0]         \n",
            "__________________________________________________________________________________________________\n",
            "block3_sepconv2 (SeparableConv2 (None, None, None, 2 67840       block3_sepconv2_act[0][0]        \n",
            "__________________________________________________________________________________________________\n",
            "block3_sepconv2_bn (BatchNormal (None, None, None, 2 1024        block3_sepconv2[0][0]            \n",
            "__________________________________________________________________________________________________\n",
            "conv2d_13 (Conv2D)              (None, None, None, 2 32768       add_36[0][0]                     \n",
            "__________________________________________________________________________________________________\n",
            "block3_pool (MaxPooling2D)      (None, None, None, 2 0           block3_sepconv2_bn[0][0]         \n",
            "__________________________________________________________________________________________________\n",
            "batch_normalization_13 (BatchNo (None, None, None, 2 1024        conv2d_13[0][0]                  \n",
            "__________________________________________________________________________________________________\n",
            "add_37 (Add)                    (None, None, None, 2 0           block3_pool[0][0]                \n",
            "                                                                 batch_normalization_13[0][0]     \n",
            "__________________________________________________________________________________________________\n",
            "block4_sepconv1_act (Activation (None, None, None, 2 0           add_37[0][0]                     \n",
            "__________________________________________________________________________________________________\n",
            "block4_sepconv1 (SeparableConv2 (None, None, None, 7 188672      block4_sepconv1_act[0][0]        \n",
            "__________________________________________________________________________________________________\n",
            "block4_sepconv1_bn (BatchNormal (None, None, None, 7 2912        block4_sepconv1[0][0]            \n",
            "__________________________________________________________________________________________________\n",
            "block4_sepconv2_act (Activation (None, None, None, 7 0           block4_sepconv1_bn[0][0]         \n",
            "__________________________________________________________________________________________________\n",
            "block4_sepconv2 (SeparableConv2 (None, None, None, 7 536536      block4_sepconv2_act[0][0]        \n",
            "__________________________________________________________________________________________________\n",
            "block4_sepconv2_bn (BatchNormal (None, None, None, 7 2912        block4_sepconv2[0][0]            \n",
            "__________________________________________________________________________________________________\n",
            "conv2d_14 (Conv2D)              (None, None, None, 7 186368      add_37[0][0]                     \n",
            "__________________________________________________________________________________________________\n",
            "block4_pool (MaxPooling2D)      (None, None, None, 7 0           block4_sepconv2_bn[0][0]         \n",
            "__________________________________________________________________________________________________\n",
            "batch_normalization_14 (BatchNo (None, None, None, 7 2912        conv2d_14[0][0]                  \n",
            "__________________________________________________________________________________________________\n",
            "add_38 (Add)                    (None, None, None, 7 0           block4_pool[0][0]                \n",
            "                                                                 batch_normalization_14[0][0]     \n",
            "__________________________________________________________________________________________________\n",
            "block5_sepconv1_act (Activation (None, None, None, 7 0           add_38[0][0]                     \n",
            "__________________________________________________________________________________________________\n",
            "block5_sepconv1 (SeparableConv2 (None, None, None, 7 536536      block5_sepconv1_act[0][0]        \n",
            "__________________________________________________________________________________________________\n",
            "block5_sepconv1_bn (BatchNormal (None, None, None, 7 2912        block5_sepconv1[0][0]            \n",
            "__________________________________________________________________________________________________\n",
            "block5_sepconv2_act (Activation (None, None, None, 7 0           block5_sepconv1_bn[0][0]         \n",
            "__________________________________________________________________________________________________\n",
            "block5_sepconv2 (SeparableConv2 (None, None, None, 7 536536      block5_sepconv2_act[0][0]        \n",
            "__________________________________________________________________________________________________\n",
            "block5_sepconv2_bn (BatchNormal (None, None, None, 7 2912        block5_sepconv2[0][0]            \n",
            "__________________________________________________________________________________________________\n",
            "block5_sepconv3_act (Activation (None, None, None, 7 0           block5_sepconv2_bn[0][0]         \n",
            "__________________________________________________________________________________________________\n",
            "block5_sepconv3 (SeparableConv2 (None, None, None, 7 536536      block5_sepconv3_act[0][0]        \n",
            "__________________________________________________________________________________________________\n",
            "block5_sepconv3_bn (BatchNormal (None, None, None, 7 2912        block5_sepconv3[0][0]            \n",
            "__________________________________________________________________________________________________\n",
            "add_39 (Add)                    (None, None, None, 7 0           block5_sepconv3_bn[0][0]         \n",
            "                                                                 add_38[0][0]                     \n",
            "__________________________________________________________________________________________________\n",
            "block6_sepconv1_act (Activation (None, None, None, 7 0           add_39[0][0]                     \n",
            "__________________________________________________________________________________________________\n",
            "block6_sepconv1 (SeparableConv2 (None, None, None, 7 536536      block6_sepconv1_act[0][0]        \n",
            "__________________________________________________________________________________________________\n",
            "block6_sepconv1_bn (BatchNormal (None, None, None, 7 2912        block6_sepconv1[0][0]            \n",
            "__________________________________________________________________________________________________\n",
            "block6_sepconv2_act (Activation (None, None, None, 7 0           block6_sepconv1_bn[0][0]         \n",
            "__________________________________________________________________________________________________\n",
            "block6_sepconv2 (SeparableConv2 (None, None, None, 7 536536      block6_sepconv2_act[0][0]        \n",
            "__________________________________________________________________________________________________\n",
            "block6_sepconv2_bn (BatchNormal (None, None, None, 7 2912        block6_sepconv2[0][0]            \n",
            "__________________________________________________________________________________________________\n",
            "block6_sepconv3_act (Activation (None, None, None, 7 0           block6_sepconv2_bn[0][0]         \n",
            "__________________________________________________________________________________________________\n",
            "block6_sepconv3 (SeparableConv2 (None, None, None, 7 536536      block6_sepconv3_act[0][0]        \n",
            "__________________________________________________________________________________________________\n",
            "block6_sepconv3_bn (BatchNormal (None, None, None, 7 2912        block6_sepconv3[0][0]            \n",
            "__________________________________________________________________________________________________\n",
            "add_40 (Add)                    (None, None, None, 7 0           block6_sepconv3_bn[0][0]         \n",
            "                                                                 add_39[0][0]                     \n",
            "__________________________________________________________________________________________________\n",
            "block7_sepconv1_act (Activation (None, None, None, 7 0           add_40[0][0]                     \n",
            "__________________________________________________________________________________________________\n",
            "block7_sepconv1 (SeparableConv2 (None, None, None, 7 536536      block7_sepconv1_act[0][0]        \n",
            "__________________________________________________________________________________________________\n",
            "block7_sepconv1_bn (BatchNormal (None, None, None, 7 2912        block7_sepconv1[0][0]            \n",
            "__________________________________________________________________________________________________\n",
            "block7_sepconv2_act (Activation (None, None, None, 7 0           block7_sepconv1_bn[0][0]         \n",
            "__________________________________________________________________________________________________\n",
            "block7_sepconv2 (SeparableConv2 (None, None, None, 7 536536      block7_sepconv2_act[0][0]        \n",
            "__________________________________________________________________________________________________\n",
            "block7_sepconv2_bn (BatchNormal (None, None, None, 7 2912        block7_sepconv2[0][0]            \n",
            "__________________________________________________________________________________________________\n",
            "block7_sepconv3_act (Activation (None, None, None, 7 0           block7_sepconv2_bn[0][0]         \n",
            "__________________________________________________________________________________________________\n",
            "block7_sepconv3 (SeparableConv2 (None, None, None, 7 536536      block7_sepconv3_act[0][0]        \n",
            "__________________________________________________________________________________________________\n",
            "block7_sepconv3_bn (BatchNormal (None, None, None, 7 2912        block7_sepconv3[0][0]            \n",
            "__________________________________________________________________________________________________\n",
            "add_41 (Add)                    (None, None, None, 7 0           block7_sepconv3_bn[0][0]         \n",
            "                                                                 add_40[0][0]                     \n",
            "__________________________________________________________________________________________________\n",
            "block8_sepconv1_act (Activation (None, None, None, 7 0           add_41[0][0]                     \n",
            "__________________________________________________________________________________________________\n",
            "block8_sepconv1 (SeparableConv2 (None, None, None, 7 536536      block8_sepconv1_act[0][0]        \n",
            "__________________________________________________________________________________________________\n",
            "block8_sepconv1_bn (BatchNormal (None, None, None, 7 2912        block8_sepconv1[0][0]            \n",
            "__________________________________________________________________________________________________\n",
            "block8_sepconv2_act (Activation (None, None, None, 7 0           block8_sepconv1_bn[0][0]         \n",
            "__________________________________________________________________________________________________\n",
            "block8_sepconv2 (SeparableConv2 (None, None, None, 7 536536      block8_sepconv2_act[0][0]        \n",
            "__________________________________________________________________________________________________\n",
            "block8_sepconv2_bn (BatchNormal (None, None, None, 7 2912        block8_sepconv2[0][0]            \n",
            "__________________________________________________________________________________________________\n",
            "block8_sepconv3_act (Activation (None, None, None, 7 0           block8_sepconv2_bn[0][0]         \n",
            "__________________________________________________________________________________________________\n",
            "block8_sepconv3 (SeparableConv2 (None, None, None, 7 536536      block8_sepconv3_act[0][0]        \n",
            "__________________________________________________________________________________________________\n",
            "block8_sepconv3_bn (BatchNormal (None, None, None, 7 2912        block8_sepconv3[0][0]            \n",
            "__________________________________________________________________________________________________\n",
            "add_42 (Add)                    (None, None, None, 7 0           block8_sepconv3_bn[0][0]         \n",
            "                                                                 add_41[0][0]                     \n",
            "__________________________________________________________________________________________________\n",
            "block9_sepconv1_act (Activation (None, None, None, 7 0           add_42[0][0]                     \n",
            "__________________________________________________________________________________________________\n",
            "block9_sepconv1 (SeparableConv2 (None, None, None, 7 536536      block9_sepconv1_act[0][0]        \n",
            "__________________________________________________________________________________________________\n",
            "block9_sepconv1_bn (BatchNormal (None, None, None, 7 2912        block9_sepconv1[0][0]            \n",
            "__________________________________________________________________________________________________\n",
            "block9_sepconv2_act (Activation (None, None, None, 7 0           block9_sepconv1_bn[0][0]         \n",
            "__________________________________________________________________________________________________\n",
            "block9_sepconv2 (SeparableConv2 (None, None, None, 7 536536      block9_sepconv2_act[0][0]        \n",
            "__________________________________________________________________________________________________\n",
            "block9_sepconv2_bn (BatchNormal (None, None, None, 7 2912        block9_sepconv2[0][0]            \n",
            "__________________________________________________________________________________________________\n",
            "block9_sepconv3_act (Activation (None, None, None, 7 0           block9_sepconv2_bn[0][0]         \n",
            "__________________________________________________________________________________________________\n",
            "block9_sepconv3 (SeparableConv2 (None, None, None, 7 536536      block9_sepconv3_act[0][0]        \n",
            "__________________________________________________________________________________________________\n",
            "block9_sepconv3_bn (BatchNormal (None, None, None, 7 2912        block9_sepconv3[0][0]            \n",
            "__________________________________________________________________________________________________\n",
            "add_43 (Add)                    (None, None, None, 7 0           block9_sepconv3_bn[0][0]         \n",
            "                                                                 add_42[0][0]                     \n",
            "__________________________________________________________________________________________________\n",
            "block10_sepconv1_act (Activatio (None, None, None, 7 0           add_43[0][0]                     \n",
            "__________________________________________________________________________________________________\n",
            "block10_sepconv1 (SeparableConv (None, None, None, 7 536536      block10_sepconv1_act[0][0]       \n",
            "__________________________________________________________________________________________________\n",
            "block10_sepconv1_bn (BatchNorma (None, None, None, 7 2912        block10_sepconv1[0][0]           \n",
            "__________________________________________________________________________________________________\n",
            "block10_sepconv2_act (Activatio (None, None, None, 7 0           block10_sepconv1_bn[0][0]        \n",
            "__________________________________________________________________________________________________\n",
            "block10_sepconv2 (SeparableConv (None, None, None, 7 536536      block10_sepconv2_act[0][0]       \n",
            "__________________________________________________________________________________________________\n",
            "block10_sepconv2_bn (BatchNorma (None, None, None, 7 2912        block10_sepconv2[0][0]           \n",
            "__________________________________________________________________________________________________\n",
            "block10_sepconv3_act (Activatio (None, None, None, 7 0           block10_sepconv2_bn[0][0]        \n",
            "__________________________________________________________________________________________________\n",
            "block10_sepconv3 (SeparableConv (None, None, None, 7 536536      block10_sepconv3_act[0][0]       \n",
            "__________________________________________________________________________________________________\n",
            "block10_sepconv3_bn (BatchNorma (None, None, None, 7 2912        block10_sepconv3[0][0]           \n",
            "__________________________________________________________________________________________________\n",
            "add_44 (Add)                    (None, None, None, 7 0           block10_sepconv3_bn[0][0]        \n",
            "                                                                 add_43[0][0]                     \n",
            "__________________________________________________________________________________________________\n",
            "block11_sepconv1_act (Activatio (None, None, None, 7 0           add_44[0][0]                     \n",
            "__________________________________________________________________________________________________\n",
            "block11_sepconv1 (SeparableConv (None, None, None, 7 536536      block11_sepconv1_act[0][0]       \n",
            "__________________________________________________________________________________________________\n",
            "block11_sepconv1_bn (BatchNorma (None, None, None, 7 2912        block11_sepconv1[0][0]           \n",
            "__________________________________________________________________________________________________\n",
            "block11_sepconv2_act (Activatio (None, None, None, 7 0           block11_sepconv1_bn[0][0]        \n",
            "__________________________________________________________________________________________________\n",
            "block11_sepconv2 (SeparableConv (None, None, None, 7 536536      block11_sepconv2_act[0][0]       \n",
            "__________________________________________________________________________________________________\n",
            "block11_sepconv2_bn (BatchNorma (None, None, None, 7 2912        block11_sepconv2[0][0]           \n",
            "__________________________________________________________________________________________________\n",
            "block11_sepconv3_act (Activatio (None, None, None, 7 0           block11_sepconv2_bn[0][0]        \n",
            "__________________________________________________________________________________________________\n",
            "block11_sepconv3 (SeparableConv (None, None, None, 7 536536      block11_sepconv3_act[0][0]       \n",
            "__________________________________________________________________________________________________\n",
            "block11_sepconv3_bn (BatchNorma (None, None, None, 7 2912        block11_sepconv3[0][0]           \n",
            "__________________________________________________________________________________________________\n",
            "add_45 (Add)                    (None, None, None, 7 0           block11_sepconv3_bn[0][0]        \n",
            "                                                                 add_44[0][0]                     \n",
            "__________________________________________________________________________________________________\n",
            "block12_sepconv1_act (Activatio (None, None, None, 7 0           add_45[0][0]                     \n",
            "__________________________________________________________________________________________________\n",
            "block12_sepconv1 (SeparableConv (None, None, None, 7 536536      block12_sepconv1_act[0][0]       \n",
            "__________________________________________________________________________________________________\n",
            "block12_sepconv1_bn (BatchNorma (None, None, None, 7 2912        block12_sepconv1[0][0]           \n",
            "__________________________________________________________________________________________________\n",
            "block12_sepconv2_act (Activatio (None, None, None, 7 0           block12_sepconv1_bn[0][0]        \n",
            "__________________________________________________________________________________________________\n",
            "block12_sepconv2 (SeparableConv (None, None, None, 7 536536      block12_sepconv2_act[0][0]       \n",
            "__________________________________________________________________________________________________\n",
            "block12_sepconv2_bn (BatchNorma (None, None, None, 7 2912        block12_sepconv2[0][0]           \n",
            "__________________________________________________________________________________________________\n",
            "block12_sepconv3_act (Activatio (None, None, None, 7 0           block12_sepconv2_bn[0][0]        \n",
            "__________________________________________________________________________________________________\n",
            "block12_sepconv3 (SeparableConv (None, None, None, 7 536536      block12_sepconv3_act[0][0]       \n",
            "__________________________________________________________________________________________________\n",
            "block12_sepconv3_bn (BatchNorma (None, None, None, 7 2912        block12_sepconv3[0][0]           \n",
            "__________________________________________________________________________________________________\n",
            "add_46 (Add)                    (None, None, None, 7 0           block12_sepconv3_bn[0][0]        \n",
            "                                                                 add_45[0][0]                     \n",
            "__________________________________________________________________________________________________\n",
            "block13_sepconv1_act (Activatio (None, None, None, 7 0           add_46[0][0]                     \n",
            "__________________________________________________________________________________________________\n",
            "block13_sepconv1 (SeparableConv (None, None, None, 7 536536      block13_sepconv1_act[0][0]       \n",
            "__________________________________________________________________________________________________\n",
            "block13_sepconv1_bn (BatchNorma (None, None, None, 7 2912        block13_sepconv1[0][0]           \n",
            "__________________________________________________________________________________________________\n",
            "block13_sepconv2_act (Activatio (None, None, None, 7 0           block13_sepconv1_bn[0][0]        \n",
            "__________________________________________________________________________________________________\n",
            "block13_sepconv2 (SeparableConv (None, None, None, 1 752024      block13_sepconv2_act[0][0]       \n",
            "__________________________________________________________________________________________________\n",
            "block13_sepconv2_bn (BatchNorma (None, None, None, 1 4096        block13_sepconv2[0][0]           \n",
            "__________________________________________________________________________________________________\n",
            "conv2d_15 (Conv2D)              (None, None, None, 1 745472      add_46[0][0]                     \n",
            "__________________________________________________________________________________________________\n",
            "block13_pool (MaxPooling2D)     (None, None, None, 1 0           block13_sepconv2_bn[0][0]        \n",
            "__________________________________________________________________________________________________\n",
            "batch_normalization_15 (BatchNo (None, None, None, 1 4096        conv2d_15[0][0]                  \n",
            "__________________________________________________________________________________________________\n",
            "add_47 (Add)                    (None, None, None, 1 0           block13_pool[0][0]               \n",
            "                                                                 batch_normalization_15[0][0]     \n",
            "__________________________________________________________________________________________________\n",
            "block14_sepconv1 (SeparableConv (None, None, None, 1 1582080     add_47[0][0]                     \n",
            "__________________________________________________________________________________________________\n",
            "block14_sepconv1_bn (BatchNorma (None, None, None, 1 6144        block14_sepconv1[0][0]           \n",
            "__________________________________________________________________________________________________\n",
            "block14_sepconv1_act (Activatio (None, None, None, 1 0           block14_sepconv1_bn[0][0]        \n",
            "__________________________________________________________________________________________________\n",
            "block14_sepconv2 (SeparableConv (None, None, None, 2 3159552     block14_sepconv1_act[0][0]       \n",
            "__________________________________________________________________________________________________\n",
            "block14_sepconv2_bn (BatchNorma (None, None, None, 2 8192        block14_sepconv2[0][0]           \n",
            "__________________________________________________________________________________________________\n",
            "block14_sepconv2_act (Activatio (None, None, None, 2 0           block14_sepconv2_bn[0][0]        \n",
            "==================================================================================================\n",
            "Total params: 20,861,480\n",
            "Trainable params: 20,806,952\n",
            "Non-trainable params: 54,528\n",
            "__________________________________________________________________________________________________\n"
          ],
          "name": "stdout"
        }
      ]
    },
    {
      "cell_type": "code",
      "metadata": {
        "colab": {
          "base_uri": "https://localhost:8080/"
        },
        "id": "h27C071NoNdx",
        "outputId": "5a7bf8e0-f2ac-4bd9-e6ad-cf478b886854"
      },
      "source": [
        "len(base_model.layers)"
      ],
      "execution_count": null,
      "outputs": [
        {
          "output_type": "execute_result",
          "data": {
            "text/plain": [
              "132"
            ]
          },
          "metadata": {
            "tags": []
          },
          "execution_count": 74
        }
      ]
    },
    {
      "cell_type": "markdown",
      "metadata": {
        "id": "VEJIUOi-rU30"
      },
      "source": [
        "Set all the layers to non trainable except the final layer. "
      ]
    },
    {
      "cell_type": "code",
      "metadata": {
        "id": "UmowTUI1qIez"
      },
      "source": [
        "base_model.trainable=False\n",
        "  "
      ],
      "execution_count": null,
      "outputs": []
    },
    {
      "cell_type": "code",
      "metadata": {
        "colab": {
          "base_uri": "https://localhost:8080/"
        },
        "id": "wKc2dcyrqvh0",
        "outputId": "5ed01c8c-b4b7-49d8-d6dc-a7982b8d69c2"
      },
      "source": [
        "base_model.summary()"
      ],
      "execution_count": null,
      "outputs": [
        {
          "output_type": "stream",
          "text": [
            "Model: \"xception\"\n",
            "__________________________________________________________________________________________________\n",
            "Layer (type)                    Output Shape         Param #     Connected to                     \n",
            "==================================================================================================\n",
            "input_1 (InputLayer)            [(None, None, None,  0                                            \n",
            "__________________________________________________________________________________________________\n",
            "block1_conv1 (Conv2D)           (None, None, None, 3 864         input_1[0][0]                    \n",
            "__________________________________________________________________________________________________\n",
            "block1_conv1_bn (BatchNormaliza (None, None, None, 3 128         block1_conv1[0][0]               \n",
            "__________________________________________________________________________________________________\n",
            "block1_conv1_act (Activation)   (None, None, None, 3 0           block1_conv1_bn[0][0]            \n",
            "__________________________________________________________________________________________________\n",
            "block1_conv2 (Conv2D)           (None, None, None, 6 18432       block1_conv1_act[0][0]           \n",
            "__________________________________________________________________________________________________\n",
            "block1_conv2_bn (BatchNormaliza (None, None, None, 6 256         block1_conv2[0][0]               \n",
            "__________________________________________________________________________________________________\n",
            "block1_conv2_act (Activation)   (None, None, None, 6 0           block1_conv2_bn[0][0]            \n",
            "__________________________________________________________________________________________________\n",
            "block2_sepconv1 (SeparableConv2 (None, None, None, 1 8768        block1_conv2_act[0][0]           \n",
            "__________________________________________________________________________________________________\n",
            "block2_sepconv1_bn (BatchNormal (None, None, None, 1 512         block2_sepconv1[0][0]            \n",
            "__________________________________________________________________________________________________\n",
            "block2_sepconv2_act (Activation (None, None, None, 1 0           block2_sepconv1_bn[0][0]         \n",
            "__________________________________________________________________________________________________\n",
            "block2_sepconv2 (SeparableConv2 (None, None, None, 1 17536       block2_sepconv2_act[0][0]        \n",
            "__________________________________________________________________________________________________\n",
            "block2_sepconv2_bn (BatchNormal (None, None, None, 1 512         block2_sepconv2[0][0]            \n",
            "__________________________________________________________________________________________________\n",
            "conv2d (Conv2D)                 (None, None, None, 1 8192        block1_conv2_act[0][0]           \n",
            "__________________________________________________________________________________________________\n",
            "block2_pool (MaxPooling2D)      (None, None, None, 1 0           block2_sepconv2_bn[0][0]         \n",
            "__________________________________________________________________________________________________\n",
            "batch_normalization (BatchNorma (None, None, None, 1 512         conv2d[0][0]                     \n",
            "__________________________________________________________________________________________________\n",
            "add (Add)                       (None, None, None, 1 0           block2_pool[0][0]                \n",
            "                                                                 batch_normalization[0][0]        \n",
            "__________________________________________________________________________________________________\n",
            "block3_sepconv1_act (Activation (None, None, None, 1 0           add[0][0]                        \n",
            "__________________________________________________________________________________________________\n",
            "block3_sepconv1 (SeparableConv2 (None, None, None, 2 33920       block3_sepconv1_act[0][0]        \n",
            "__________________________________________________________________________________________________\n",
            "block3_sepconv1_bn (BatchNormal (None, None, None, 2 1024        block3_sepconv1[0][0]            \n",
            "__________________________________________________________________________________________________\n",
            "block3_sepconv2_act (Activation (None, None, None, 2 0           block3_sepconv1_bn[0][0]         \n",
            "__________________________________________________________________________________________________\n",
            "block3_sepconv2 (SeparableConv2 (None, None, None, 2 67840       block3_sepconv2_act[0][0]        \n",
            "__________________________________________________________________________________________________\n",
            "block3_sepconv2_bn (BatchNormal (None, None, None, 2 1024        block3_sepconv2[0][0]            \n",
            "__________________________________________________________________________________________________\n",
            "conv2d_1 (Conv2D)               (None, None, None, 2 32768       add[0][0]                        \n",
            "__________________________________________________________________________________________________\n",
            "block3_pool (MaxPooling2D)      (None, None, None, 2 0           block3_sepconv2_bn[0][0]         \n",
            "__________________________________________________________________________________________________\n",
            "batch_normalization_1 (BatchNor (None, None, None, 2 1024        conv2d_1[0][0]                   \n",
            "__________________________________________________________________________________________________\n",
            "add_1 (Add)                     (None, None, None, 2 0           block3_pool[0][0]                \n",
            "                                                                 batch_normalization_1[0][0]      \n",
            "__________________________________________________________________________________________________\n",
            "block4_sepconv1_act (Activation (None, None, None, 2 0           add_1[0][0]                      \n",
            "__________________________________________________________________________________________________\n",
            "block4_sepconv1 (SeparableConv2 (None, None, None, 7 188672      block4_sepconv1_act[0][0]        \n",
            "__________________________________________________________________________________________________\n",
            "block4_sepconv1_bn (BatchNormal (None, None, None, 7 2912        block4_sepconv1[0][0]            \n",
            "__________________________________________________________________________________________________\n",
            "block4_sepconv2_act (Activation (None, None, None, 7 0           block4_sepconv1_bn[0][0]         \n",
            "__________________________________________________________________________________________________\n",
            "block4_sepconv2 (SeparableConv2 (None, None, None, 7 536536      block4_sepconv2_act[0][0]        \n",
            "__________________________________________________________________________________________________\n",
            "block4_sepconv2_bn (BatchNormal (None, None, None, 7 2912        block4_sepconv2[0][0]            \n",
            "__________________________________________________________________________________________________\n",
            "conv2d_2 (Conv2D)               (None, None, None, 7 186368      add_1[0][0]                      \n",
            "__________________________________________________________________________________________________\n",
            "block4_pool (MaxPooling2D)      (None, None, None, 7 0           block4_sepconv2_bn[0][0]         \n",
            "__________________________________________________________________________________________________\n",
            "batch_normalization_2 (BatchNor (None, None, None, 7 2912        conv2d_2[0][0]                   \n",
            "__________________________________________________________________________________________________\n",
            "add_2 (Add)                     (None, None, None, 7 0           block4_pool[0][0]                \n",
            "                                                                 batch_normalization_2[0][0]      \n",
            "__________________________________________________________________________________________________\n",
            "block5_sepconv1_act (Activation (None, None, None, 7 0           add_2[0][0]                      \n",
            "__________________________________________________________________________________________________\n",
            "block5_sepconv1 (SeparableConv2 (None, None, None, 7 536536      block5_sepconv1_act[0][0]        \n",
            "__________________________________________________________________________________________________\n",
            "block5_sepconv1_bn (BatchNormal (None, None, None, 7 2912        block5_sepconv1[0][0]            \n",
            "__________________________________________________________________________________________________\n",
            "block5_sepconv2_act (Activation (None, None, None, 7 0           block5_sepconv1_bn[0][0]         \n",
            "__________________________________________________________________________________________________\n",
            "block5_sepconv2 (SeparableConv2 (None, None, None, 7 536536      block5_sepconv2_act[0][0]        \n",
            "__________________________________________________________________________________________________\n",
            "block5_sepconv2_bn (BatchNormal (None, None, None, 7 2912        block5_sepconv2[0][0]            \n",
            "__________________________________________________________________________________________________\n",
            "block5_sepconv3_act (Activation (None, None, None, 7 0           block5_sepconv2_bn[0][0]         \n",
            "__________________________________________________________________________________________________\n",
            "block5_sepconv3 (SeparableConv2 (None, None, None, 7 536536      block5_sepconv3_act[0][0]        \n",
            "__________________________________________________________________________________________________\n",
            "block5_sepconv3_bn (BatchNormal (None, None, None, 7 2912        block5_sepconv3[0][0]            \n",
            "__________________________________________________________________________________________________\n",
            "add_3 (Add)                     (None, None, None, 7 0           block5_sepconv3_bn[0][0]         \n",
            "                                                                 add_2[0][0]                      \n",
            "__________________________________________________________________________________________________\n",
            "block6_sepconv1_act (Activation (None, None, None, 7 0           add_3[0][0]                      \n",
            "__________________________________________________________________________________________________\n",
            "block6_sepconv1 (SeparableConv2 (None, None, None, 7 536536      block6_sepconv1_act[0][0]        \n",
            "__________________________________________________________________________________________________\n",
            "block6_sepconv1_bn (BatchNormal (None, None, None, 7 2912        block6_sepconv1[0][0]            \n",
            "__________________________________________________________________________________________________\n",
            "block6_sepconv2_act (Activation (None, None, None, 7 0           block6_sepconv1_bn[0][0]         \n",
            "__________________________________________________________________________________________________\n",
            "block6_sepconv2 (SeparableConv2 (None, None, None, 7 536536      block6_sepconv2_act[0][0]        \n",
            "__________________________________________________________________________________________________\n",
            "block6_sepconv2_bn (BatchNormal (None, None, None, 7 2912        block6_sepconv2[0][0]            \n",
            "__________________________________________________________________________________________________\n",
            "block6_sepconv3_act (Activation (None, None, None, 7 0           block6_sepconv2_bn[0][0]         \n",
            "__________________________________________________________________________________________________\n",
            "block6_sepconv3 (SeparableConv2 (None, None, None, 7 536536      block6_sepconv3_act[0][0]        \n",
            "__________________________________________________________________________________________________\n",
            "block6_sepconv3_bn (BatchNormal (None, None, None, 7 2912        block6_sepconv3[0][0]            \n",
            "__________________________________________________________________________________________________\n",
            "add_4 (Add)                     (None, None, None, 7 0           block6_sepconv3_bn[0][0]         \n",
            "                                                                 add_3[0][0]                      \n",
            "__________________________________________________________________________________________________\n",
            "block7_sepconv1_act (Activation (None, None, None, 7 0           add_4[0][0]                      \n",
            "__________________________________________________________________________________________________\n",
            "block7_sepconv1 (SeparableConv2 (None, None, None, 7 536536      block7_sepconv1_act[0][0]        \n",
            "__________________________________________________________________________________________________\n",
            "block7_sepconv1_bn (BatchNormal (None, None, None, 7 2912        block7_sepconv1[0][0]            \n",
            "__________________________________________________________________________________________________\n",
            "block7_sepconv2_act (Activation (None, None, None, 7 0           block7_sepconv1_bn[0][0]         \n",
            "__________________________________________________________________________________________________\n",
            "block7_sepconv2 (SeparableConv2 (None, None, None, 7 536536      block7_sepconv2_act[0][0]        \n",
            "__________________________________________________________________________________________________\n",
            "block7_sepconv2_bn (BatchNormal (None, None, None, 7 2912        block7_sepconv2[0][0]            \n",
            "__________________________________________________________________________________________________\n",
            "block7_sepconv3_act (Activation (None, None, None, 7 0           block7_sepconv2_bn[0][0]         \n",
            "__________________________________________________________________________________________________\n",
            "block7_sepconv3 (SeparableConv2 (None, None, None, 7 536536      block7_sepconv3_act[0][0]        \n",
            "__________________________________________________________________________________________________\n",
            "block7_sepconv3_bn (BatchNormal (None, None, None, 7 2912        block7_sepconv3[0][0]            \n",
            "__________________________________________________________________________________________________\n",
            "add_5 (Add)                     (None, None, None, 7 0           block7_sepconv3_bn[0][0]         \n",
            "                                                                 add_4[0][0]                      \n",
            "__________________________________________________________________________________________________\n",
            "block8_sepconv1_act (Activation (None, None, None, 7 0           add_5[0][0]                      \n",
            "__________________________________________________________________________________________________\n",
            "block8_sepconv1 (SeparableConv2 (None, None, None, 7 536536      block8_sepconv1_act[0][0]        \n",
            "__________________________________________________________________________________________________\n",
            "block8_sepconv1_bn (BatchNormal (None, None, None, 7 2912        block8_sepconv1[0][0]            \n",
            "__________________________________________________________________________________________________\n",
            "block8_sepconv2_act (Activation (None, None, None, 7 0           block8_sepconv1_bn[0][0]         \n",
            "__________________________________________________________________________________________________\n",
            "block8_sepconv2 (SeparableConv2 (None, None, None, 7 536536      block8_sepconv2_act[0][0]        \n",
            "__________________________________________________________________________________________________\n",
            "block8_sepconv2_bn (BatchNormal (None, None, None, 7 2912        block8_sepconv2[0][0]            \n",
            "__________________________________________________________________________________________________\n",
            "block8_sepconv3_act (Activation (None, None, None, 7 0           block8_sepconv2_bn[0][0]         \n",
            "__________________________________________________________________________________________________\n",
            "block8_sepconv3 (SeparableConv2 (None, None, None, 7 536536      block8_sepconv3_act[0][0]        \n",
            "__________________________________________________________________________________________________\n",
            "block8_sepconv3_bn (BatchNormal (None, None, None, 7 2912        block8_sepconv3[0][0]            \n",
            "__________________________________________________________________________________________________\n",
            "add_6 (Add)                     (None, None, None, 7 0           block8_sepconv3_bn[0][0]         \n",
            "                                                                 add_5[0][0]                      \n",
            "__________________________________________________________________________________________________\n",
            "block9_sepconv1_act (Activation (None, None, None, 7 0           add_6[0][0]                      \n",
            "__________________________________________________________________________________________________\n",
            "block9_sepconv1 (SeparableConv2 (None, None, None, 7 536536      block9_sepconv1_act[0][0]        \n",
            "__________________________________________________________________________________________________\n",
            "block9_sepconv1_bn (BatchNormal (None, None, None, 7 2912        block9_sepconv1[0][0]            \n",
            "__________________________________________________________________________________________________\n",
            "block9_sepconv2_act (Activation (None, None, None, 7 0           block9_sepconv1_bn[0][0]         \n",
            "__________________________________________________________________________________________________\n",
            "block9_sepconv2 (SeparableConv2 (None, None, None, 7 536536      block9_sepconv2_act[0][0]        \n",
            "__________________________________________________________________________________________________\n",
            "block9_sepconv2_bn (BatchNormal (None, None, None, 7 2912        block9_sepconv2[0][0]            \n",
            "__________________________________________________________________________________________________\n",
            "block9_sepconv3_act (Activation (None, None, None, 7 0           block9_sepconv2_bn[0][0]         \n",
            "__________________________________________________________________________________________________\n",
            "block9_sepconv3 (SeparableConv2 (None, None, None, 7 536536      block9_sepconv3_act[0][0]        \n",
            "__________________________________________________________________________________________________\n",
            "block9_sepconv3_bn (BatchNormal (None, None, None, 7 2912        block9_sepconv3[0][0]            \n",
            "__________________________________________________________________________________________________\n",
            "add_7 (Add)                     (None, None, None, 7 0           block9_sepconv3_bn[0][0]         \n",
            "                                                                 add_6[0][0]                      \n",
            "__________________________________________________________________________________________________\n",
            "block10_sepconv1_act (Activatio (None, None, None, 7 0           add_7[0][0]                      \n",
            "__________________________________________________________________________________________________\n",
            "block10_sepconv1 (SeparableConv (None, None, None, 7 536536      block10_sepconv1_act[0][0]       \n",
            "__________________________________________________________________________________________________\n",
            "block10_sepconv1_bn (BatchNorma (None, None, None, 7 2912        block10_sepconv1[0][0]           \n",
            "__________________________________________________________________________________________________\n",
            "block10_sepconv2_act (Activatio (None, None, None, 7 0           block10_sepconv1_bn[0][0]        \n",
            "__________________________________________________________________________________________________\n",
            "block10_sepconv2 (SeparableConv (None, None, None, 7 536536      block10_sepconv2_act[0][0]       \n",
            "__________________________________________________________________________________________________\n",
            "block10_sepconv2_bn (BatchNorma (None, None, None, 7 2912        block10_sepconv2[0][0]           \n",
            "__________________________________________________________________________________________________\n",
            "block10_sepconv3_act (Activatio (None, None, None, 7 0           block10_sepconv2_bn[0][0]        \n",
            "__________________________________________________________________________________________________\n",
            "block10_sepconv3 (SeparableConv (None, None, None, 7 536536      block10_sepconv3_act[0][0]       \n",
            "__________________________________________________________________________________________________\n",
            "block10_sepconv3_bn (BatchNorma (None, None, None, 7 2912        block10_sepconv3[0][0]           \n",
            "__________________________________________________________________________________________________\n",
            "add_8 (Add)                     (None, None, None, 7 0           block10_sepconv3_bn[0][0]        \n",
            "                                                                 add_7[0][0]                      \n",
            "__________________________________________________________________________________________________\n",
            "block11_sepconv1_act (Activatio (None, None, None, 7 0           add_8[0][0]                      \n",
            "__________________________________________________________________________________________________\n",
            "block11_sepconv1 (SeparableConv (None, None, None, 7 536536      block11_sepconv1_act[0][0]       \n",
            "__________________________________________________________________________________________________\n",
            "block11_sepconv1_bn (BatchNorma (None, None, None, 7 2912        block11_sepconv1[0][0]           \n",
            "__________________________________________________________________________________________________\n",
            "block11_sepconv2_act (Activatio (None, None, None, 7 0           block11_sepconv1_bn[0][0]        \n",
            "__________________________________________________________________________________________________\n",
            "block11_sepconv2 (SeparableConv (None, None, None, 7 536536      block11_sepconv2_act[0][0]       \n",
            "__________________________________________________________________________________________________\n",
            "block11_sepconv2_bn (BatchNorma (None, None, None, 7 2912        block11_sepconv2[0][0]           \n",
            "__________________________________________________________________________________________________\n",
            "block11_sepconv3_act (Activatio (None, None, None, 7 0           block11_sepconv2_bn[0][0]        \n",
            "__________________________________________________________________________________________________\n",
            "block11_sepconv3 (SeparableConv (None, None, None, 7 536536      block11_sepconv3_act[0][0]       \n",
            "__________________________________________________________________________________________________\n",
            "block11_sepconv3_bn (BatchNorma (None, None, None, 7 2912        block11_sepconv3[0][0]           \n",
            "__________________________________________________________________________________________________\n",
            "add_9 (Add)                     (None, None, None, 7 0           block11_sepconv3_bn[0][0]        \n",
            "                                                                 add_8[0][0]                      \n",
            "__________________________________________________________________________________________________\n",
            "block12_sepconv1_act (Activatio (None, None, None, 7 0           add_9[0][0]                      \n",
            "__________________________________________________________________________________________________\n",
            "block12_sepconv1 (SeparableConv (None, None, None, 7 536536      block12_sepconv1_act[0][0]       \n",
            "__________________________________________________________________________________________________\n",
            "block12_sepconv1_bn (BatchNorma (None, None, None, 7 2912        block12_sepconv1[0][0]           \n",
            "__________________________________________________________________________________________________\n",
            "block12_sepconv2_act (Activatio (None, None, None, 7 0           block12_sepconv1_bn[0][0]        \n",
            "__________________________________________________________________________________________________\n",
            "block12_sepconv2 (SeparableConv (None, None, None, 7 536536      block12_sepconv2_act[0][0]       \n",
            "__________________________________________________________________________________________________\n",
            "block12_sepconv2_bn (BatchNorma (None, None, None, 7 2912        block12_sepconv2[0][0]           \n",
            "__________________________________________________________________________________________________\n",
            "block12_sepconv3_act (Activatio (None, None, None, 7 0           block12_sepconv2_bn[0][0]        \n",
            "__________________________________________________________________________________________________\n",
            "block12_sepconv3 (SeparableConv (None, None, None, 7 536536      block12_sepconv3_act[0][0]       \n",
            "__________________________________________________________________________________________________\n",
            "block12_sepconv3_bn (BatchNorma (None, None, None, 7 2912        block12_sepconv3[0][0]           \n",
            "__________________________________________________________________________________________________\n",
            "add_10 (Add)                    (None, None, None, 7 0           block12_sepconv3_bn[0][0]        \n",
            "                                                                 add_9[0][0]                      \n",
            "__________________________________________________________________________________________________\n",
            "block13_sepconv1_act (Activatio (None, None, None, 7 0           add_10[0][0]                     \n",
            "__________________________________________________________________________________________________\n",
            "block13_sepconv1 (SeparableConv (None, None, None, 7 536536      block13_sepconv1_act[0][0]       \n",
            "__________________________________________________________________________________________________\n",
            "block13_sepconv1_bn (BatchNorma (None, None, None, 7 2912        block13_sepconv1[0][0]           \n",
            "__________________________________________________________________________________________________\n",
            "block13_sepconv2_act (Activatio (None, None, None, 7 0           block13_sepconv1_bn[0][0]        \n",
            "__________________________________________________________________________________________________\n",
            "block13_sepconv2 (SeparableConv (None, None, None, 1 752024      block13_sepconv2_act[0][0]       \n",
            "__________________________________________________________________________________________________\n",
            "block13_sepconv2_bn (BatchNorma (None, None, None, 1 4096        block13_sepconv2[0][0]           \n",
            "__________________________________________________________________________________________________\n",
            "conv2d_3 (Conv2D)               (None, None, None, 1 745472      add_10[0][0]                     \n",
            "__________________________________________________________________________________________________\n",
            "block13_pool (MaxPooling2D)     (None, None, None, 1 0           block13_sepconv2_bn[0][0]        \n",
            "__________________________________________________________________________________________________\n",
            "batch_normalization_3 (BatchNor (None, None, None, 1 4096        conv2d_3[0][0]                   \n",
            "__________________________________________________________________________________________________\n",
            "add_11 (Add)                    (None, None, None, 1 0           block13_pool[0][0]               \n",
            "                                                                 batch_normalization_3[0][0]      \n",
            "__________________________________________________________________________________________________\n",
            "block14_sepconv1 (SeparableConv (None, None, None, 1 1582080     add_11[0][0]                     \n",
            "__________________________________________________________________________________________________\n",
            "block14_sepconv1_bn (BatchNorma (None, None, None, 1 6144        block14_sepconv1[0][0]           \n",
            "__________________________________________________________________________________________________\n",
            "block14_sepconv1_act (Activatio (None, None, None, 1 0           block14_sepconv1_bn[0][0]        \n",
            "__________________________________________________________________________________________________\n",
            "block14_sepconv2 (SeparableConv (None, None, None, 2 3159552     block14_sepconv1_act[0][0]       \n",
            "__________________________________________________________________________________________________\n",
            "block14_sepconv2_bn (BatchNorma (None, None, None, 2 8192        block14_sepconv2[0][0]           \n",
            "__________________________________________________________________________________________________\n",
            "block14_sepconv2_act (Activatio (None, None, None, 2 0           block14_sepconv2_bn[0][0]        \n",
            "==================================================================================================\n",
            "Total params: 20,861,480\n",
            "Trainable params: 0\n",
            "Non-trainable params: 20,861,480\n",
            "__________________________________________________________________________________________________\n"
          ],
          "name": "stdout"
        }
      ]
    },
    {
      "cell_type": "markdown",
      "metadata": {
        "id": "AU0lrqFAtrsg"
      },
      "source": [
        "**Model Graph**"
      ]
    },
    {
      "cell_type": "code",
      "metadata": {
        "id": "pBy3e8UdrrNg"
      },
      "source": [
        "from tensorflow.keras.layers.experimental.preprocessing import Resizing\n",
        "from tensorflow.keras.layers.experimental.preprocessing import Rescaling\n",
        "\n",
        "from tensorflow.keras.layers import Input, Dense, GlobalAveragePooling2D\n",
        "\n",
        "\n",
        "input = Input(shape=(100,100,3))\n",
        "\n",
        "x = Rescaling(1./255) (input)\n",
        "x = base_model(x, training=True)\n",
        "x = GlobalAveragePooling2D()(x)\n",
        "output = Dense(2, activation='softmax') (x)\n",
        "\n",
        "model=tf.keras.Model(input, output)"
      ],
      "execution_count": null,
      "outputs": []
    },
    {
      "cell_type": "code",
      "metadata": {
        "colab": {
          "base_uri": "https://localhost:8080/"
        },
        "id": "1OR9JB4b8b-K",
        "outputId": "2453c2d7-a659-4071-8881-2ac8bd8616fc"
      },
      "source": [
        "model.summary()"
      ],
      "execution_count": null,
      "outputs": [
        {
          "output_type": "stream",
          "text": [
            "Model: \"model\"\n",
            "_________________________________________________________________\n",
            "Layer (type)                 Output Shape              Param #   \n",
            "=================================================================\n",
            "input_9 (InputLayer)         [(None, 100, 100, 3)]     0         \n",
            "_________________________________________________________________\n",
            "rescaling_4 (Rescaling)      (None, 100, 100, 3)       0         \n",
            "_________________________________________________________________\n",
            "xception (Functional)        (None, None, None, 2048)  20861480  \n",
            "_________________________________________________________________\n",
            "global_average_pooling2d_1 ( (None, 2048)              0         \n",
            "_________________________________________________________________\n",
            "dense (Dense)                (None, 2)                 4098      \n",
            "=================================================================\n",
            "Total params: 20,865,578\n",
            "Trainable params: 4,098\n",
            "Non-trainable params: 20,861,480\n",
            "_________________________________________________________________\n"
          ],
          "name": "stdout"
        }
      ]
    },
    {
      "cell_type": "code",
      "metadata": {
        "id": "NYhfmJD39sNX"
      },
      "source": [
        "%load_ext tensorboard"
      ],
      "execution_count": null,
      "outputs": []
    },
    {
      "cell_type": "code",
      "metadata": {
        "id": "mXO038yW9vQ8"
      },
      "source": [
        "rm -rf ./logs/"
      ],
      "execution_count": null,
      "outputs": []
    },
    {
      "cell_type": "code",
      "metadata": {
        "id": "BSE7Cbwz96ey"
      },
      "source": [
        "from tensorflow.keras.optimizers import Adam\n",
        "opt= Adam(learning_rate=0.002)\n",
        "\n",
        "model.compile(optimizer=opt,\n",
        "              loss='binary_crossentropy',\n",
        "              metrics=['accuracy'])"
      ],
      "execution_count": null,
      "outputs": []
    },
    {
      "cell_type": "code",
      "metadata": {
        "id": "52n0gN5K-ScT"
      },
      "source": [
        "log_dir = \"logs/fit/\" + datetime.datetime.now().strftime(\"%Y%m%d-%H%M%S\")\n",
        "tensorboard_callback = tf.keras.callbacks.TensorBoard(log_dir=log_dir, histogram_freq=1)\n"
      ],
      "execution_count": null,
      "outputs": []
    },
    {
      "cell_type": "code",
      "metadata": {
        "id": "PJxm0HdX_BAN"
      },
      "source": [
        "%tensorboard --logdir logs/fit"
      ],
      "execution_count": null,
      "outputs": []
    },
    {
      "cell_type": "code",
      "metadata": {
        "colab": {
          "base_uri": "https://localhost:8080/"
        },
        "id": "UCwx-hZm-vmy",
        "outputId": "61b23617-61e5-4a31-b9bf-3647bd893300"
      },
      "source": [
        "model.fit(train_dataset,\n",
        "          validation_data=val_data,\n",
        "          batch_size=32,\n",
        "          epochs=3,  \n",
        "          )"
      ],
      "execution_count": null,
      "outputs": [
        {
          "output_type": "stream",
          "text": [
            "Epoch 1/3\n",
            "316/316 [==============================] - 23s 43ms/step - loss: 0.1552 - accuracy: 0.9557 - val_loss: 6.9160 - val_accuracy: 0.0000e+00\n",
            "Epoch 2/3\n",
            "316/316 [==============================] - 12s 37ms/step - loss: 0.6802 - accuracy: 0.8601 - val_loss: 7.4239 - val_accuracy: 0.0000e+00\n",
            "Epoch 3/3\n",
            "316/316 [==============================] - 12s 37ms/step - loss: 0.6895 - accuracy: 0.8580 - val_loss: 7.5109 - val_accuracy: 0.0010\n"
          ],
          "name": "stdout"
        },
        {
          "output_type": "execute_result",
          "data": {
            "text/plain": [
              "<tensorflow.python.keras.callbacks.History at 0x7faf3e1123c8>"
            ]
          },
          "metadata": {
            "tags": []
          },
          "execution_count": 22
        }
      ]
    },
    {
      "cell_type": "code",
      "metadata": {
        "id": "ZsSUtimz_g6a",
        "colab": {
          "base_uri": "https://localhost:8080/"
        },
        "outputId": "4ca5ca88-8e51-4ad3-bff6-4fbce88780c5"
      },
      "source": [
        "base_model.trainable=True\n",
        "model.summary()"
      ],
      "execution_count": null,
      "outputs": [
        {
          "output_type": "stream",
          "text": [
            "Model: \"model\"\n",
            "_________________________________________________________________\n",
            "Layer (type)                 Output Shape              Param #   \n",
            "=================================================================\n",
            "input_2 (InputLayer)         [(None, 100, 100, 3)]     0         \n",
            "_________________________________________________________________\n",
            "rescaling (Rescaling)        (None, 100, 100, 3)       0         \n",
            "_________________________________________________________________\n",
            "xception (Functional)        (None, None, None, 2048)  20861480  \n",
            "_________________________________________________________________\n",
            "global_average_pooling2d (Gl (None, 2048)              0         \n",
            "_________________________________________________________________\n",
            "dense (Dense)                (None, 2)                 4098      \n",
            "=================================================================\n",
            "Total params: 20,865,578\n",
            "Trainable params: 20,811,050\n",
            "Non-trainable params: 54,528\n",
            "_________________________________________________________________\n"
          ],
          "name": "stdout"
        }
      ]
    },
    {
      "cell_type": "code",
      "metadata": {
        "id": "W41HZd6Wqs_j"
      },
      "source": [
        "# Include the epoch in the file name (uses `str.format`)\n",
        "checkpoint_path = \"/content/drive/MyDrive/ML-DeepFakes-Detection/saved_model/training_1/cp-{epoch:04d}.ckpt\"\n",
        "checkpoint_dir = os.path.dirname(checkpoint_path)\n",
        "\n",
        "batch_size = 32\n",
        "\n",
        "# Create a callback that saves the model's weights every 5 epochs\n",
        "cp_callback = tf.keras.callbacks.ModelCheckpoint(\n",
        "    filepath=checkpoint_path, \n",
        "    verbose=1, \n",
        "    save_weights_only=True,\n",
        "    save_freq=50*316)\n",
        "\n",
        "\n",
        "\n",
        "# Save the weights using the `checkpoint_path` format\n",
        "model.save_weights(checkpoint_path.format(epoch=0))"
      ],
      "execution_count": null,
      "outputs": []
    },
    {
      "cell_type": "code",
      "metadata": {
        "colab": {
          "base_uri": "https://localhost:8080/",
          "height": 1000
        },
        "id": "NkGJjeupDnOH",
        "outputId": "3e1a359e-c8d4-41bd-ebee-710c56a36389"
      },
      "source": [
        "model.fit(train_dataset,\n",
        "          validation_data=val_data,\n",
        "          batch_size=32,\n",
        "          epochs=500,  \n",
        "          callbacks=[cp_callback])"
      ],
      "execution_count": null,
      "outputs": [
        {
          "output_type": "stream",
          "text": [
            "Epoch 1/500\n",
            "316/316 [==============================] - 12s 37ms/step - loss: 0.0959 - accuracy: 0.9723 - val_loss: 5.3000 - val_accuracy: 0.1630\n",
            "Epoch 2/500\n",
            "316/316 [==============================] - 12s 37ms/step - loss: 0.1424 - accuracy: 0.9619 - val_loss: 5.6834 - val_accuracy: 0.1580\n",
            "Epoch 3/500\n",
            "316/316 [==============================] - 12s 37ms/step - loss: 0.1392 - accuracy: 0.9661 - val_loss: 5.3210 - val_accuracy: 0.1850\n",
            "Epoch 4/500\n",
            "316/316 [==============================] - 12s 38ms/step - loss: 0.1349 - accuracy: 0.9656 - val_loss: 5.9924 - val_accuracy: 0.1580\n",
            "Epoch 5/500\n",
            "316/316 [==============================] - 12s 37ms/step - loss: 0.1537 - accuracy: 0.9643 - val_loss: 5.7114 - val_accuracy: 0.1800\n",
            "Epoch 6/500\n",
            "316/316 [==============================] - 12s 37ms/step - loss: 0.1519 - accuracy: 0.9629 - val_loss: 5.5588 - val_accuracy: 0.1760\n",
            "Epoch 7/500\n",
            "316/316 [==============================] - 12s 37ms/step - loss: 0.1389 - accuracy: 0.9643 - val_loss: 5.3271 - val_accuracy: 0.1810\n",
            "Epoch 8/500\n",
            "316/316 [==============================] - 12s 38ms/step - loss: 0.1395 - accuracy: 0.9630 - val_loss: 5.0638 - val_accuracy: 0.1970\n",
            "Epoch 9/500\n",
            "316/316 [==============================] - 12s 38ms/step - loss: 0.1339 - accuracy: 0.9663 - val_loss: 5.4576 - val_accuracy: 0.1640\n",
            "Epoch 10/500\n",
            "316/316 [==============================] - 12s 38ms/step - loss: 0.1354 - accuracy: 0.9653 - val_loss: 5.3817 - val_accuracy: 0.1710\n",
            "Epoch 11/500\n",
            "316/316 [==============================] - 12s 38ms/step - loss: 0.1325 - accuracy: 0.9672 - val_loss: 5.0555 - val_accuracy: 0.2080\n",
            "Epoch 12/500\n",
            "316/316 [==============================] - 12s 38ms/step - loss: 0.1487 - accuracy: 0.9647 - val_loss: 5.0194 - val_accuracy: 0.1980\n",
            "Epoch 13/500\n",
            "316/316 [==============================] - 12s 38ms/step - loss: 0.1196 - accuracy: 0.9660 - val_loss: 5.1429 - val_accuracy: 0.2030\n",
            "Epoch 14/500\n",
            "316/316 [==============================] - 12s 38ms/step - loss: 0.1414 - accuracy: 0.9632 - val_loss: 5.2073 - val_accuracy: 0.2040\n",
            "Epoch 15/500\n",
            "316/316 [==============================] - 12s 38ms/step - loss: 0.1287 - accuracy: 0.9663 - val_loss: 5.3361 - val_accuracy: 0.1930\n",
            "Epoch 16/500\n",
            "316/316 [==============================] - 12s 38ms/step - loss: 0.1351 - accuracy: 0.9654 - val_loss: 4.9054 - val_accuracy: 0.2160\n",
            "Epoch 17/500\n",
            "316/316 [==============================] - 12s 38ms/step - loss: 0.1251 - accuracy: 0.9670 - val_loss: 5.0427 - val_accuracy: 0.2050\n",
            "Epoch 18/500\n",
            "316/316 [==============================] - 12s 38ms/step - loss: 0.1311 - accuracy: 0.9665 - val_loss: 4.7963 - val_accuracy: 0.2190\n",
            "Epoch 19/500\n",
            "316/316 [==============================] - 12s 38ms/step - loss: 0.1187 - accuracy: 0.9701 - val_loss: 4.9671 - val_accuracy: 0.2210\n",
            "Epoch 20/500\n",
            "316/316 [==============================] - 12s 38ms/step - loss: 0.1288 - accuracy: 0.9682 - val_loss: 5.0956 - val_accuracy: 0.2090\n",
            "Epoch 21/500\n",
            "316/316 [==============================] - 12s 38ms/step - loss: 0.1357 - accuracy: 0.9664 - val_loss: 5.2777 - val_accuracy: 0.2030\n",
            "Epoch 22/500\n",
            "316/316 [==============================] - 12s 38ms/step - loss: 0.1436 - accuracy: 0.9644 - val_loss: 5.0547 - val_accuracy: 0.2010\n",
            "Epoch 23/500\n",
            "316/316 [==============================] - 12s 38ms/step - loss: 0.1290 - accuracy: 0.9673 - val_loss: 4.8139 - val_accuracy: 0.2080\n",
            "Epoch 24/500\n",
            "316/316 [==============================] - 12s 38ms/step - loss: 0.1209 - accuracy: 0.9678 - val_loss: 5.1032 - val_accuracy: 0.2110\n",
            "Epoch 25/500\n",
            "316/316 [==============================] - 12s 38ms/step - loss: 0.1245 - accuracy: 0.9705 - val_loss: 4.7771 - val_accuracy: 0.2370\n",
            "Epoch 26/500\n",
            "316/316 [==============================] - 12s 38ms/step - loss: 0.1261 - accuracy: 0.9697 - val_loss: 4.8300 - val_accuracy: 0.2320\n",
            "Epoch 27/500\n",
            "316/316 [==============================] - 12s 38ms/step - loss: 0.1312 - accuracy: 0.9682 - val_loss: 4.6424 - val_accuracy: 0.2360\n",
            "Epoch 28/500\n",
            "316/316 [==============================] - 12s 39ms/step - loss: 0.1227 - accuracy: 0.9670 - val_loss: 4.9217 - val_accuracy: 0.2340\n",
            "Epoch 29/500\n",
            "316/316 [==============================] - 12s 38ms/step - loss: 0.1264 - accuracy: 0.9710 - val_loss: 4.8310 - val_accuracy: 0.2240\n",
            "Epoch 30/500\n",
            "316/316 [==============================] - 12s 39ms/step - loss: 0.1167 - accuracy: 0.9695 - val_loss: 4.4017 - val_accuracy: 0.2510\n",
            "Epoch 31/500\n",
            "316/316 [==============================] - 12s 39ms/step - loss: 0.1256 - accuracy: 0.9704 - val_loss: 4.9620 - val_accuracy: 0.2200\n",
            "Epoch 32/500\n",
            "316/316 [==============================] - 12s 38ms/step - loss: 0.1339 - accuracy: 0.9671 - val_loss: 4.3890 - val_accuracy: 0.2760\n",
            "Epoch 33/500\n",
            "316/316 [==============================] - 12s 39ms/step - loss: 0.1143 - accuracy: 0.9701 - val_loss: 4.4954 - val_accuracy: 0.2490\n",
            "Epoch 34/500\n",
            "316/316 [==============================] - 12s 39ms/step - loss: 0.1165 - accuracy: 0.9709 - val_loss: 4.5860 - val_accuracy: 0.2480\n",
            "Epoch 35/500\n",
            "316/316 [==============================] - 12s 38ms/step - loss: 0.1145 - accuracy: 0.9692 - val_loss: 4.8137 - val_accuracy: 0.2200\n",
            "Epoch 36/500\n",
            "316/316 [==============================] - 12s 38ms/step - loss: 0.1173 - accuracy: 0.9702 - val_loss: 4.3633 - val_accuracy: 0.2600\n",
            "Epoch 37/500\n",
            "316/316 [==============================] - 12s 38ms/step - loss: 0.1273 - accuracy: 0.9695 - val_loss: 4.4672 - val_accuracy: 0.2620\n",
            "Epoch 38/500\n",
            "316/316 [==============================] - 12s 38ms/step - loss: 0.1203 - accuracy: 0.9680 - val_loss: 4.8605 - val_accuracy: 0.2380\n",
            "Epoch 39/500\n",
            "316/316 [==============================] - 12s 38ms/step - loss: 0.1208 - accuracy: 0.9712 - val_loss: 5.0078 - val_accuracy: 0.2190\n",
            "Epoch 40/500\n",
            "316/316 [==============================] - 12s 38ms/step - loss: 0.1185 - accuracy: 0.9693 - val_loss: 5.0684 - val_accuracy: 0.2160\n",
            "Epoch 41/500\n",
            "316/316 [==============================] - 12s 39ms/step - loss: 0.1253 - accuracy: 0.9700 - val_loss: 4.4218 - val_accuracy: 0.2590\n",
            "Epoch 42/500\n",
            "316/316 [==============================] - 12s 39ms/step - loss: 0.1168 - accuracy: 0.9697 - val_loss: 4.5499 - val_accuracy: 0.2500\n",
            "Epoch 43/500\n",
            "316/316 [==============================] - 12s 39ms/step - loss: 0.1197 - accuracy: 0.9682 - val_loss: 4.3255 - val_accuracy: 0.2540\n",
            "Epoch 44/500\n",
            "316/316 [==============================] - 12s 39ms/step - loss: 0.1102 - accuracy: 0.9712 - val_loss: 4.3131 - val_accuracy: 0.2680\n",
            "Epoch 45/500\n",
            "316/316 [==============================] - 12s 38ms/step - loss: 0.0979 - accuracy: 0.9724 - val_loss: 4.3896 - val_accuracy: 0.2760\n",
            "Epoch 46/500\n",
            "316/316 [==============================] - 12s 38ms/step - loss: 0.1091 - accuracy: 0.9703 - val_loss: 4.5547 - val_accuracy: 0.2470\n",
            "Epoch 47/500\n",
            "316/316 [==============================] - 12s 39ms/step - loss: 0.1084 - accuracy: 0.9686 - val_loss: 4.7323 - val_accuracy: 0.2370\n",
            "Epoch 48/500\n",
            "316/316 [==============================] - 12s 39ms/step - loss: 0.1010 - accuracy: 0.9730 - val_loss: 4.8889 - val_accuracy: 0.2360\n",
            "Epoch 49/500\n",
            "316/316 [==============================] - 12s 39ms/step - loss: 0.1174 - accuracy: 0.9683 - val_loss: 4.4536 - val_accuracy: 0.2580\n",
            "Epoch 50/500\n",
            "315/316 [============================>.] - ETA: 0s - loss: 0.1142 - accuracy: 0.9701\n",
            "Epoch 00050: saving model to /content/drive/MyDrive/ML-DeepFakes-Detection/saved_model/training_1/cp-0050.ckpt\n",
            "316/316 [==============================] - 13s 40ms/step - loss: 0.1139 - accuracy: 0.9702 - val_loss: 4.0680 - val_accuracy: 0.2930\n",
            "Epoch 51/500\n",
            "316/316 [==============================] - 12s 39ms/step - loss: 0.1050 - accuracy: 0.9733 - val_loss: 4.6301 - val_accuracy: 0.2360\n",
            "Epoch 52/500\n",
            "316/316 [==============================] - 12s 39ms/step - loss: 0.1082 - accuracy: 0.9738 - val_loss: 5.1149 - val_accuracy: 0.2130\n",
            "Epoch 53/500\n",
            "316/316 [==============================] - 12s 39ms/step - loss: 0.1189 - accuracy: 0.9712 - val_loss: 4.1549 - val_accuracy: 0.3010\n",
            "Epoch 54/500\n",
            "316/316 [==============================] - 12s 39ms/step - loss: 0.1083 - accuracy: 0.9726 - val_loss: 4.8066 - val_accuracy: 0.2210\n",
            "Epoch 55/500\n",
            "316/316 [==============================] - 12s 38ms/step - loss: 0.1163 - accuracy: 0.9717 - val_loss: 4.4920 - val_accuracy: 0.2590\n",
            "Epoch 56/500\n",
            "316/316 [==============================] - 12s 39ms/step - loss: 0.1086 - accuracy: 0.9720 - val_loss: 5.0453 - val_accuracy: 0.2210\n",
            "Epoch 57/500\n",
            "316/316 [==============================] - 12s 39ms/step - loss: 0.1102 - accuracy: 0.9726 - val_loss: 4.9168 - val_accuracy: 0.2410\n",
            "Epoch 58/500\n",
            "316/316 [==============================] - 12s 38ms/step - loss: 0.1095 - accuracy: 0.9727 - val_loss: 4.4965 - val_accuracy: 0.2810\n",
            "Epoch 59/500\n",
            "316/316 [==============================] - 12s 38ms/step - loss: 0.1117 - accuracy: 0.9717 - val_loss: 4.3282 - val_accuracy: 0.2620\n",
            "Epoch 60/500\n",
            "316/316 [==============================] - 12s 38ms/step - loss: 0.1032 - accuracy: 0.9730 - val_loss: 4.2431 - val_accuracy: 0.2920\n",
            "Epoch 61/500\n",
            "316/316 [==============================] - 12s 38ms/step - loss: 0.1000 - accuracy: 0.9751 - val_loss: 4.2619 - val_accuracy: 0.2950\n",
            "Epoch 62/500\n",
            "316/316 [==============================] - 12s 38ms/step - loss: 0.1103 - accuracy: 0.9709 - val_loss: 4.3678 - val_accuracy: 0.2910\n",
            "Epoch 63/500\n",
            "316/316 [==============================] - 12s 39ms/step - loss: 0.1139 - accuracy: 0.9694 - val_loss: 4.3490 - val_accuracy: 0.2720\n",
            "Epoch 64/500\n",
            "316/316 [==============================] - 12s 39ms/step - loss: 0.1128 - accuracy: 0.9707 - val_loss: 3.8797 - val_accuracy: 0.3130\n",
            "Epoch 65/500\n",
            "316/316 [==============================] - 12s 39ms/step - loss: 0.1098 - accuracy: 0.9722 - val_loss: 4.1347 - val_accuracy: 0.3080\n",
            "Epoch 66/500\n",
            "316/316 [==============================] - 12s 39ms/step - loss: 0.1069 - accuracy: 0.9730 - val_loss: 4.2073 - val_accuracy: 0.2770\n",
            "Epoch 67/500\n",
            "316/316 [==============================] - 12s 38ms/step - loss: 0.1047 - accuracy: 0.9728 - val_loss: 3.8830 - val_accuracy: 0.3380\n",
            "Epoch 68/500\n",
            "316/316 [==============================] - 12s 39ms/step - loss: 0.0956 - accuracy: 0.9746 - val_loss: 4.0474 - val_accuracy: 0.3050\n",
            "Epoch 69/500\n",
            "316/316 [==============================] - 12s 38ms/step - loss: 0.0998 - accuracy: 0.9741 - val_loss: 4.1516 - val_accuracy: 0.2850\n",
            "Epoch 70/500\n",
            "316/316 [==============================] - 12s 39ms/step - loss: 0.1041 - accuracy: 0.9727 - val_loss: 4.2971 - val_accuracy: 0.2720\n",
            "Epoch 71/500\n",
            "316/316 [==============================] - 12s 39ms/step - loss: 0.1084 - accuracy: 0.9725 - val_loss: 4.6398 - val_accuracy: 0.2510\n",
            "Epoch 72/500\n",
            "316/316 [==============================] - 12s 39ms/step - loss: 0.1015 - accuracy: 0.9717 - val_loss: 5.1721 - val_accuracy: 0.2180\n",
            "Epoch 73/500\n",
            "316/316 [==============================] - 12s 39ms/step - loss: 0.1133 - accuracy: 0.9713 - val_loss: 3.8913 - val_accuracy: 0.3260\n",
            "Epoch 74/500\n",
            "316/316 [==============================] - 12s 39ms/step - loss: 0.1177 - accuracy: 0.9706 - val_loss: 3.8353 - val_accuracy: 0.3260\n",
            "Epoch 75/500\n",
            "316/316 [==============================] - 12s 38ms/step - loss: 0.0943 - accuracy: 0.9730 - val_loss: 3.9574 - val_accuracy: 0.3180\n",
            "Epoch 76/500\n",
            "316/316 [==============================] - 12s 39ms/step - loss: 0.1006 - accuracy: 0.9745 - val_loss: 3.9409 - val_accuracy: 0.3050\n",
            "Epoch 77/500\n",
            "316/316 [==============================] - 12s 39ms/step - loss: 0.0944 - accuracy: 0.9741 - val_loss: 4.0041 - val_accuracy: 0.3210\n",
            "Epoch 78/500\n",
            "316/316 [==============================] - 12s 39ms/step - loss: 0.0960 - accuracy: 0.9727 - val_loss: 4.6409 - val_accuracy: 0.2820\n",
            "Epoch 79/500\n",
            "316/316 [==============================] - 12s 39ms/step - loss: 0.1042 - accuracy: 0.9745 - val_loss: 4.0590 - val_accuracy: 0.3250\n",
            "Epoch 80/500\n",
            "316/316 [==============================] - 12s 39ms/step - loss: 0.1040 - accuracy: 0.9727 - val_loss: 3.9574 - val_accuracy: 0.3120\n",
            "Epoch 81/500\n",
            "316/316 [==============================] - 12s 38ms/step - loss: 0.0882 - accuracy: 0.9761 - val_loss: 4.1551 - val_accuracy: 0.3020\n",
            "Epoch 82/500\n",
            "316/316 [==============================] - 12s 38ms/step - loss: 0.0988 - accuracy: 0.9722 - val_loss: 3.9955 - val_accuracy: 0.3290\n",
            "Epoch 83/500\n",
            "316/316 [==============================] - 12s 39ms/step - loss: 0.0947 - accuracy: 0.9744 - val_loss: 3.9245 - val_accuracy: 0.3330\n",
            "Epoch 84/500\n",
            "316/316 [==============================] - 12s 39ms/step - loss: 0.0963 - accuracy: 0.9754 - val_loss: 4.1784 - val_accuracy: 0.2920\n",
            "Epoch 85/500\n",
            "316/316 [==============================] - 12s 39ms/step - loss: 0.1022 - accuracy: 0.9749 - val_loss: 4.2051 - val_accuracy: 0.2910\n",
            "Epoch 86/500\n",
            "316/316 [==============================] - 12s 39ms/step - loss: 0.1014 - accuracy: 0.9729 - val_loss: 4.1432 - val_accuracy: 0.3060\n",
            "Epoch 87/500\n",
            "316/316 [==============================] - 12s 39ms/step - loss: 0.0973 - accuracy: 0.9731 - val_loss: 4.1444 - val_accuracy: 0.2880\n",
            "Epoch 88/500\n",
            "316/316 [==============================] - 12s 39ms/step - loss: 0.0940 - accuracy: 0.9750 - val_loss: 3.9551 - val_accuracy: 0.3120\n",
            "Epoch 89/500\n",
            "316/316 [==============================] - 12s 39ms/step - loss: 0.0940 - accuracy: 0.9749 - val_loss: 4.3284 - val_accuracy: 0.2880\n",
            "Epoch 90/500\n",
            "316/316 [==============================] - 12s 39ms/step - loss: 0.1030 - accuracy: 0.9739 - val_loss: 4.1504 - val_accuracy: 0.3100\n",
            "Epoch 91/500\n",
            "316/316 [==============================] - 12s 39ms/step - loss: 0.0909 - accuracy: 0.9759 - val_loss: 4.2833 - val_accuracy: 0.3030\n",
            "Epoch 92/500\n",
            "316/316 [==============================] - 12s 39ms/step - loss: 0.1078 - accuracy: 0.9750 - val_loss: 3.8647 - val_accuracy: 0.3210\n",
            "Epoch 93/500\n",
            "316/316 [==============================] - 12s 39ms/step - loss: 0.0945 - accuracy: 0.9757 - val_loss: 3.9055 - val_accuracy: 0.3170\n",
            "Epoch 94/500\n",
            "316/316 [==============================] - 12s 38ms/step - loss: 0.0894 - accuracy: 0.9774 - val_loss: 3.9635 - val_accuracy: 0.3200\n",
            "Epoch 95/500\n",
            "316/316 [==============================] - 12s 39ms/step - loss: 0.0947 - accuracy: 0.9758 - val_loss: 4.1531 - val_accuracy: 0.3040\n",
            "Epoch 96/500\n",
            "316/316 [==============================] - 12s 39ms/step - loss: 0.0945 - accuracy: 0.9746 - val_loss: 4.1787 - val_accuracy: 0.3010\n",
            "Epoch 97/500\n",
            "316/316 [==============================] - 12s 39ms/step - loss: 0.0931 - accuracy: 0.9757 - val_loss: 4.1115 - val_accuracy: 0.3350\n",
            "Epoch 98/500\n",
            "316/316 [==============================] - 12s 39ms/step - loss: 0.1003 - accuracy: 0.9751 - val_loss: 4.0853 - val_accuracy: 0.3150\n",
            "Epoch 99/500\n",
            "316/316 [==============================] - 12s 39ms/step - loss: 0.0933 - accuracy: 0.9752 - val_loss: 4.0861 - val_accuracy: 0.3120\n",
            "Epoch 100/500\n",
            "315/316 [============================>.] - ETA: 0s - loss: 0.0960 - accuracy: 0.9745\n",
            "Epoch 00100: saving model to /content/drive/MyDrive/ML-DeepFakes-Detection/saved_model/training_1/cp-0100.ckpt\n",
            "316/316 [==============================] - 13s 41ms/step - loss: 0.0958 - accuracy: 0.9746 - val_loss: 4.1805 - val_accuracy: 0.3170\n",
            "Epoch 101/500\n",
            "316/316 [==============================] - 12s 39ms/step - loss: 0.0962 - accuracy: 0.9755 - val_loss: 4.2619 - val_accuracy: 0.3050\n",
            "Epoch 102/500\n",
            "316/316 [==============================] - 12s 39ms/step - loss: 0.1014 - accuracy: 0.9738 - val_loss: 3.8438 - val_accuracy: 0.3360\n",
            "Epoch 103/500\n",
            "316/316 [==============================] - 12s 39ms/step - loss: 0.0999 - accuracy: 0.9764 - val_loss: 3.5402 - val_accuracy: 0.3650\n",
            "Epoch 104/500\n",
            "316/316 [==============================] - 12s 39ms/step - loss: 0.0907 - accuracy: 0.9769 - val_loss: 3.7030 - val_accuracy: 0.3500\n",
            "Epoch 105/500\n",
            "316/316 [==============================] - 12s 39ms/step - loss: 0.1019 - accuracy: 0.9741 - val_loss: 3.9233 - val_accuracy: 0.3230\n",
            "Epoch 106/500\n",
            "316/316 [==============================] - 12s 39ms/step - loss: 0.0852 - accuracy: 0.9764 - val_loss: 4.1665 - val_accuracy: 0.3100\n",
            "Epoch 107/500\n",
            "316/316 [==============================] - 12s 39ms/step - loss: 0.1068 - accuracy: 0.9717 - val_loss: 3.7247 - val_accuracy: 0.3620\n",
            "Epoch 108/500\n",
            "316/316 [==============================] - 12s 39ms/step - loss: 0.0841 - accuracy: 0.9764 - val_loss: 3.6522 - val_accuracy: 0.3640\n",
            "Epoch 109/500\n",
            "316/316 [==============================] - 12s 39ms/step - loss: 0.0882 - accuracy: 0.9770 - val_loss: 4.0751 - val_accuracy: 0.3200\n",
            "Epoch 110/500\n",
            "316/316 [==============================] - 12s 39ms/step - loss: 0.0918 - accuracy: 0.9778 - val_loss: 3.2037 - val_accuracy: 0.4050\n",
            "Epoch 111/500\n",
            "316/316 [==============================] - 12s 39ms/step - loss: 0.0771 - accuracy: 0.9794 - val_loss: 3.5579 - val_accuracy: 0.3640\n",
            "Epoch 112/500\n",
            "316/316 [==============================] - 12s 39ms/step - loss: 0.0901 - accuracy: 0.9764 - val_loss: 3.4679 - val_accuracy: 0.3610\n",
            "Epoch 113/500\n",
            "316/316 [==============================] - 12s 39ms/step - loss: 0.0930 - accuracy: 0.9749 - val_loss: 4.0326 - val_accuracy: 0.3200\n",
            "Epoch 114/500\n",
            "316/316 [==============================] - 12s 39ms/step - loss: 0.0850 - accuracy: 0.9764 - val_loss: 4.0555 - val_accuracy: 0.3060\n",
            "Epoch 115/500\n",
            "316/316 [==============================] - 12s 39ms/step - loss: 0.1026 - accuracy: 0.9753 - val_loss: 3.5086 - val_accuracy: 0.3700\n",
            "Epoch 116/500\n",
            "316/316 [==============================] - 12s 39ms/step - loss: 0.0898 - accuracy: 0.9744 - val_loss: 3.8365 - val_accuracy: 0.3300\n",
            "Epoch 117/500\n",
            "316/316 [==============================] - 12s 39ms/step - loss: 0.0914 - accuracy: 0.9757 - val_loss: 3.6794 - val_accuracy: 0.3490\n",
            "Epoch 118/500\n",
            "316/316 [==============================] - 12s 39ms/step - loss: 0.0849 - accuracy: 0.9778 - val_loss: 3.8450 - val_accuracy: 0.3470\n",
            "Epoch 119/500\n",
            "316/316 [==============================] - 12s 39ms/step - loss: 0.0867 - accuracy: 0.9773 - val_loss: 3.6650 - val_accuracy: 0.3460\n",
            "Epoch 120/500\n",
            "316/316 [==============================] - 12s 39ms/step - loss: 0.0839 - accuracy: 0.9765 - val_loss: 3.5756 - val_accuracy: 0.3520\n",
            "Epoch 121/500\n",
            "316/316 [==============================] - 12s 39ms/step - loss: 0.0847 - accuracy: 0.9777 - val_loss: 4.0718 - val_accuracy: 0.3140\n",
            "Epoch 122/500\n",
            "316/316 [==============================] - 12s 39ms/step - loss: 0.0911 - accuracy: 0.9761 - val_loss: 3.4037 - val_accuracy: 0.3850\n",
            "Epoch 123/500\n",
            "316/316 [==============================] - 12s 39ms/step - loss: 0.0861 - accuracy: 0.9783 - val_loss: 3.5699 - val_accuracy: 0.3760\n",
            "Epoch 124/500\n",
            "316/316 [==============================] - 12s 39ms/step - loss: 0.0896 - accuracy: 0.9758 - val_loss: 3.6202 - val_accuracy: 0.3410\n",
            "Epoch 125/500\n",
            "316/316 [==============================] - 12s 39ms/step - loss: 0.0865 - accuracy: 0.9767 - val_loss: 3.6550 - val_accuracy: 0.3660\n",
            "Epoch 126/500\n",
            "316/316 [==============================] - 12s 39ms/step - loss: 0.0868 - accuracy: 0.9759 - val_loss: 3.7343 - val_accuracy: 0.3410\n",
            "Epoch 127/500\n",
            "316/316 [==============================] - 12s 39ms/step - loss: 0.0934 - accuracy: 0.9764 - val_loss: 3.7422 - val_accuracy: 0.3540\n",
            "Epoch 128/500\n",
            "316/316 [==============================] - 12s 39ms/step - loss: 0.0846 - accuracy: 0.9779 - val_loss: 3.7966 - val_accuracy: 0.3470\n",
            "Epoch 129/500\n",
            "316/316 [==============================] - 12s 39ms/step - loss: 0.0857 - accuracy: 0.9771 - val_loss: 3.9557 - val_accuracy: 0.3320\n",
            "Epoch 130/500\n",
            "316/316 [==============================] - 13s 39ms/step - loss: 0.0944 - accuracy: 0.9771 - val_loss: 3.4162 - val_accuracy: 0.3780\n",
            "Epoch 131/500\n",
            "316/316 [==============================] - 13s 40ms/step - loss: 0.0775 - accuracy: 0.9794 - val_loss: 3.3090 - val_accuracy: 0.3950\n",
            "Epoch 132/500\n",
            "316/316 [==============================] - 13s 40ms/step - loss: 0.0856 - accuracy: 0.9764 - val_loss: 3.0930 - val_accuracy: 0.4260\n",
            "Epoch 133/500\n",
            "316/316 [==============================] - 13s 40ms/step - loss: 0.0803 - accuracy: 0.9764 - val_loss: 3.2263 - val_accuracy: 0.3950\n",
            "Epoch 134/500\n",
            "316/316 [==============================] - 12s 39ms/step - loss: 0.0867 - accuracy: 0.9764 - val_loss: 3.1729 - val_accuracy: 0.4030\n",
            "Epoch 135/500\n",
            "316/316 [==============================] - 12s 39ms/step - loss: 0.0846 - accuracy: 0.9772 - val_loss: 3.1499 - val_accuracy: 0.4000\n",
            "Epoch 136/500\n",
            "316/316 [==============================] - 13s 39ms/step - loss: 0.0777 - accuracy: 0.9777 - val_loss: 4.2007 - val_accuracy: 0.3080\n",
            "Epoch 137/500\n",
            "316/316 [==============================] - 12s 39ms/step - loss: 0.0918 - accuracy: 0.9768 - val_loss: 3.2542 - val_accuracy: 0.3970\n",
            "Epoch 138/500\n",
            "316/316 [==============================] - 13s 39ms/step - loss: 0.0857 - accuracy: 0.9781 - val_loss: 3.7369 - val_accuracy: 0.3330\n",
            "Epoch 139/500\n",
            "316/316 [==============================] - 12s 39ms/step - loss: 0.0906 - accuracy: 0.9770 - val_loss: 3.2357 - val_accuracy: 0.3920\n",
            "Epoch 140/500\n",
            "316/316 [==============================] - 12s 39ms/step - loss: 0.0828 - accuracy: 0.9779 - val_loss: 3.8022 - val_accuracy: 0.3410\n",
            "Epoch 141/500\n",
            "316/316 [==============================] - 13s 39ms/step - loss: 0.1003 - accuracy: 0.9740 - val_loss: 3.6767 - val_accuracy: 0.3470\n",
            "Epoch 142/500\n",
            "316/316 [==============================] - 13s 39ms/step - loss: 0.0777 - accuracy: 0.9791 - val_loss: 3.6265 - val_accuracy: 0.3690\n",
            "Epoch 143/500\n",
            "316/316 [==============================] - 13s 39ms/step - loss: 0.0785 - accuracy: 0.9789 - val_loss: 3.8386 - val_accuracy: 0.3300\n",
            "Epoch 144/500\n",
            "316/316 [==============================] - 12s 39ms/step - loss: 0.0803 - accuracy: 0.9783 - val_loss: 3.6772 - val_accuracy: 0.3510\n",
            "Epoch 145/500\n",
            "316/316 [==============================] - 13s 39ms/step - loss: 0.0832 - accuracy: 0.9785 - val_loss: 3.4156 - val_accuracy: 0.3710\n",
            "Epoch 146/500\n",
            "316/316 [==============================] - 13s 39ms/step - loss: 0.0751 - accuracy: 0.9790 - val_loss: 3.5011 - val_accuracy: 0.3860\n",
            "Epoch 147/500\n",
            "316/316 [==============================] - 13s 39ms/step - loss: 0.0833 - accuracy: 0.9770 - val_loss: 3.3804 - val_accuracy: 0.3920\n",
            "Epoch 148/500\n",
            "316/316 [==============================] - 13s 40ms/step - loss: 0.0853 - accuracy: 0.9783 - val_loss: 3.8374 - val_accuracy: 0.3490\n",
            "Epoch 149/500\n",
            "316/316 [==============================] - 12s 39ms/step - loss: 0.0809 - accuracy: 0.9785 - val_loss: 4.2319 - val_accuracy: 0.3090\n",
            "Epoch 150/500\n",
            "315/316 [============================>.] - ETA: 0s - loss: 0.0873 - accuracy: 0.9776\n",
            "Epoch 00150: saving model to /content/drive/MyDrive/ML-DeepFakes-Detection/saved_model/training_1/cp-0150.ckpt\n",
            "316/316 [==============================] - 13s 41ms/step - loss: 0.0871 - accuracy: 0.9776 - val_loss: 3.6312 - val_accuracy: 0.3510\n",
            "Epoch 151/500\n",
            "316/316 [==============================] - 13s 39ms/step - loss: 0.0812 - accuracy: 0.9782 - val_loss: 3.3838 - val_accuracy: 0.3940\n",
            "Epoch 152/500\n",
            "316/316 [==============================] - 12s 39ms/step - loss: 0.0884 - accuracy: 0.9774 - val_loss: 3.7423 - val_accuracy: 0.3500\n",
            "Epoch 153/500\n",
            "316/316 [==============================] - 13s 39ms/step - loss: 0.0797 - accuracy: 0.9795 - val_loss: 3.4381 - val_accuracy: 0.3840\n",
            "Epoch 154/500\n",
            "316/316 [==============================] - 13s 39ms/step - loss: 0.0889 - accuracy: 0.9779 - val_loss: 3.3456 - val_accuracy: 0.3970\n",
            "Epoch 155/500\n",
            "316/316 [==============================] - 13s 39ms/step - loss: 0.0824 - accuracy: 0.9775 - val_loss: 3.5192 - val_accuracy: 0.3640\n",
            "Epoch 156/500\n",
            "316/316 [==============================] - 13s 39ms/step - loss: 0.0800 - accuracy: 0.9797 - val_loss: 3.4460 - val_accuracy: 0.3790\n",
            "Epoch 157/500\n",
            "316/316 [==============================] - 13s 39ms/step - loss: 0.0752 - accuracy: 0.9792 - val_loss: 3.5073 - val_accuracy: 0.3630\n",
            "Epoch 158/500\n",
            "316/316 [==============================] - 13s 39ms/step - loss: 0.0762 - accuracy: 0.9782 - val_loss: 3.7959 - val_accuracy: 0.3480\n",
            "Epoch 159/500\n",
            "316/316 [==============================] - 13s 39ms/step - loss: 0.0860 - accuracy: 0.9775 - val_loss: 3.3730 - val_accuracy: 0.4030\n",
            "Epoch 160/500\n",
            "316/316 [==============================] - 12s 39ms/step - loss: 0.0791 - accuracy: 0.9778 - val_loss: 3.5776 - val_accuracy: 0.3610\n",
            "Epoch 161/500\n",
            "316/316 [==============================] - 12s 39ms/step - loss: 0.0902 - accuracy: 0.9767 - val_loss: 3.3564 - val_accuracy: 0.3850\n",
            "Epoch 162/500\n",
            "316/316 [==============================] - 12s 39ms/step - loss: 0.0830 - accuracy: 0.9775 - val_loss: 3.2673 - val_accuracy: 0.3830\n",
            "Epoch 163/500\n",
            "316/316 [==============================] - 12s 39ms/step - loss: 0.0860 - accuracy: 0.9773 - val_loss: 3.3490 - val_accuracy: 0.3830\n",
            "Epoch 164/500\n",
            "316/316 [==============================] - 12s 39ms/step - loss: 0.0849 - accuracy: 0.9797 - val_loss: 3.6403 - val_accuracy: 0.3570\n",
            "Epoch 165/500\n",
            "316/316 [==============================] - 13s 40ms/step - loss: 0.0871 - accuracy: 0.9779 - val_loss: 3.6566 - val_accuracy: 0.3500\n",
            "Epoch 166/500\n",
            "316/316 [==============================] - 12s 39ms/step - loss: 0.0860 - accuracy: 0.9778 - val_loss: 3.6213 - val_accuracy: 0.3620\n",
            "Epoch 167/500\n",
            "316/316 [==============================] - 12s 39ms/step - loss: 0.0892 - accuracy: 0.9765 - val_loss: 3.3206 - val_accuracy: 0.3740\n",
            "Epoch 168/500\n",
            "316/316 [==============================] - 12s 39ms/step - loss: 0.0716 - accuracy: 0.9799 - val_loss: 3.3847 - val_accuracy: 0.3850\n",
            "Epoch 169/500\n",
            "316/316 [==============================] - 12s 39ms/step - loss: 0.0753 - accuracy: 0.9800 - val_loss: 3.5019 - val_accuracy: 0.3750\n",
            "Epoch 170/500\n",
            "316/316 [==============================] - 12s 39ms/step - loss: 0.0784 - accuracy: 0.9787 - val_loss: 3.2604 - val_accuracy: 0.3980\n",
            "Epoch 171/500\n",
            "316/316 [==============================] - 12s 39ms/step - loss: 0.0766 - accuracy: 0.9797 - val_loss: 3.3731 - val_accuracy: 0.3920\n",
            "Epoch 172/500\n",
            "316/316 [==============================] - 13s 39ms/step - loss: 0.0770 - accuracy: 0.9795 - val_loss: 3.4165 - val_accuracy: 0.3810\n",
            "Epoch 173/500\n",
            "316/316 [==============================] - 12s 39ms/step - loss: 0.0826 - accuracy: 0.9801 - val_loss: 2.8852 - val_accuracy: 0.4340\n",
            "Epoch 174/500\n",
            "316/316 [==============================] - 12s 39ms/step - loss: 0.0766 - accuracy: 0.9787 - val_loss: 3.2910 - val_accuracy: 0.3710\n",
            "Epoch 175/500\n",
            "316/316 [==============================] - 12s 39ms/step - loss: 0.0833 - accuracy: 0.9800 - val_loss: 2.9957 - val_accuracy: 0.4240\n",
            "Epoch 176/500\n",
            "316/316 [==============================] - 12s 39ms/step - loss: 0.0728 - accuracy: 0.9796 - val_loss: 3.1683 - val_accuracy: 0.4150\n",
            "Epoch 177/500\n",
            "316/316 [==============================] - 12s 39ms/step - loss: 0.0768 - accuracy: 0.9786 - val_loss: 3.1150 - val_accuracy: 0.4000\n",
            "Epoch 178/500\n",
            "316/316 [==============================] - 12s 39ms/step - loss: 0.0883 - accuracy: 0.9800 - val_loss: 3.1646 - val_accuracy: 0.4100\n",
            "Epoch 179/500\n",
            "316/316 [==============================] - 12s 39ms/step - loss: 0.0724 - accuracy: 0.9801 - val_loss: 3.3342 - val_accuracy: 0.3710\n",
            "Epoch 180/500\n",
            "316/316 [==============================] - 12s 39ms/step - loss: 0.0783 - accuracy: 0.9769 - val_loss: 3.8457 - val_accuracy: 0.3500\n",
            "Epoch 181/500\n",
            "316/316 [==============================] - 12s 39ms/step - loss: 0.0877 - accuracy: 0.9774 - val_loss: 3.4193 - val_accuracy: 0.3640\n",
            "Epoch 182/500\n",
            "316/316 [==============================] - 12s 39ms/step - loss: 0.0789 - accuracy: 0.9807 - val_loss: 3.0422 - val_accuracy: 0.4010\n",
            "Epoch 183/500\n",
            "316/316 [==============================] - 12s 39ms/step - loss: 0.0735 - accuracy: 0.9782 - val_loss: 3.2861 - val_accuracy: 0.3840\n",
            "Epoch 184/500\n",
            "316/316 [==============================] - 12s 39ms/step - loss: 0.0749 - accuracy: 0.9792 - val_loss: 3.2939 - val_accuracy: 0.3920\n",
            "Epoch 185/500\n",
            "316/316 [==============================] - 12s 39ms/step - loss: 0.0725 - accuracy: 0.9797 - val_loss: 2.9834 - val_accuracy: 0.4360\n",
            "Epoch 186/500\n",
            "316/316 [==============================] - 12s 39ms/step - loss: 0.0688 - accuracy: 0.9806 - val_loss: 3.2203 - val_accuracy: 0.3930\n",
            "Epoch 187/500\n",
            "316/316 [==============================] - 12s 39ms/step - loss: 0.0799 - accuracy: 0.9796 - val_loss: 3.1889 - val_accuracy: 0.4060\n",
            "Epoch 188/500\n",
            "316/316 [==============================] - 12s 39ms/step - loss: 0.0740 - accuracy: 0.9787 - val_loss: 3.3937 - val_accuracy: 0.3920\n",
            "Epoch 189/500\n",
            "316/316 [==============================] - 12s 39ms/step - loss: 0.0793 - accuracy: 0.9781 - val_loss: 3.3834 - val_accuracy: 0.3860\n",
            "Epoch 190/500\n",
            "316/316 [==============================] - 12s 39ms/step - loss: 0.0813 - accuracy: 0.9781 - val_loss: 3.0696 - val_accuracy: 0.4030\n",
            "Epoch 191/500\n",
            "316/316 [==============================] - 12s 39ms/step - loss: 0.0753 - accuracy: 0.9790 - val_loss: 3.0755 - val_accuracy: 0.4170\n",
            "Epoch 192/500\n",
            "316/316 [==============================] - 12s 39ms/step - loss: 0.0746 - accuracy: 0.9795 - val_loss: 3.1595 - val_accuracy: 0.4150\n",
            "Epoch 193/500\n",
            "316/316 [==============================] - 12s 39ms/step - loss: 0.0684 - accuracy: 0.9816 - val_loss: 3.5530 - val_accuracy: 0.3680\n",
            "Epoch 194/500\n",
            "316/316 [==============================] - 12s 39ms/step - loss: 0.0811 - accuracy: 0.9818 - val_loss: 3.3982 - val_accuracy: 0.3800\n",
            "Epoch 195/500\n",
            "316/316 [==============================] - 12s 39ms/step - loss: 0.0719 - accuracy: 0.9806 - val_loss: 3.2722 - val_accuracy: 0.3840\n",
            "Epoch 196/500\n",
            "316/316 [==============================] - 12s 39ms/step - loss: 0.0720 - accuracy: 0.9800 - val_loss: 3.2020 - val_accuracy: 0.4020\n",
            "Epoch 197/500\n",
            "316/316 [==============================] - 12s 39ms/step - loss: 0.0779 - accuracy: 0.9783 - val_loss: 2.8432 - val_accuracy: 0.4450\n",
            "Epoch 198/500\n",
            "316/316 [==============================] - 12s 39ms/step - loss: 0.0755 - accuracy: 0.9806 - val_loss: 3.1022 - val_accuracy: 0.4060\n",
            "Epoch 199/500\n",
            "316/316 [==============================] - 12s 39ms/step - loss: 0.0783 - accuracy: 0.9792 - val_loss: 2.5865 - val_accuracy: 0.4560\n",
            "Epoch 200/500\n",
            "315/316 [============================>.] - ETA: 0s - loss: 0.0665 - accuracy: 0.9812\n",
            "Epoch 00200: saving model to /content/drive/MyDrive/ML-DeepFakes-Detection/saved_model/training_1/cp-0200.ckpt\n",
            "316/316 [==============================] - 13s 41ms/step - loss: 0.0664 - accuracy: 0.9813 - val_loss: 2.8087 - val_accuracy: 0.4310\n",
            "Epoch 201/500\n",
            "316/316 [==============================] - 12s 39ms/step - loss: 0.0658 - accuracy: 0.9823 - val_loss: 2.9296 - val_accuracy: 0.4300\n",
            "Epoch 202/500\n",
            "316/316 [==============================] - 12s 39ms/step - loss: 0.0727 - accuracy: 0.9800 - val_loss: 2.9558 - val_accuracy: 0.4160\n",
            "Epoch 203/500\n",
            "316/316 [==============================] - 12s 39ms/step - loss: 0.0746 - accuracy: 0.9799 - val_loss: 3.3464 - val_accuracy: 0.3840\n",
            "Epoch 204/500\n",
            "316/316 [==============================] - 12s 39ms/step - loss: 0.0755 - accuracy: 0.9800 - val_loss: 3.0981 - val_accuracy: 0.3970\n",
            "Epoch 205/500\n",
            "316/316 [==============================] - 12s 39ms/step - loss: 0.0761 - accuracy: 0.9795 - val_loss: 3.0356 - val_accuracy: 0.4090\n",
            "Epoch 206/500\n",
            "316/316 [==============================] - 12s 39ms/step - loss: 0.0706 - accuracy: 0.9811 - val_loss: 2.9282 - val_accuracy: 0.4370\n",
            "Epoch 207/500\n",
            "316/316 [==============================] - 12s 39ms/step - loss: 0.0810 - accuracy: 0.9781 - val_loss: 3.2915 - val_accuracy: 0.3880\n",
            "Epoch 208/500\n",
            "316/316 [==============================] - 12s 39ms/step - loss: 0.0718 - accuracy: 0.9818 - val_loss: 3.0098 - val_accuracy: 0.4250\n",
            "Epoch 209/500\n",
            "316/316 [==============================] - 12s 39ms/step - loss: 0.0712 - accuracy: 0.9802 - val_loss: 3.2320 - val_accuracy: 0.3890\n",
            "Epoch 210/500\n",
            "316/316 [==============================] - 12s 39ms/step - loss: 0.0809 - accuracy: 0.9780 - val_loss: 2.9324 - val_accuracy: 0.4330\n",
            "Epoch 211/500\n",
            "316/316 [==============================] - 12s 39ms/step - loss: 0.0682 - accuracy: 0.9813 - val_loss: 2.8179 - val_accuracy: 0.4490\n",
            "Epoch 212/500\n",
            "316/316 [==============================] - 12s 39ms/step - loss: 0.0680 - accuracy: 0.9809 - val_loss: 2.7519 - val_accuracy: 0.4550\n",
            "Epoch 213/500\n",
            "316/316 [==============================] - 12s 39ms/step - loss: 0.0651 - accuracy: 0.9806 - val_loss: 3.0184 - val_accuracy: 0.4120\n",
            "Epoch 214/500\n",
            "316/316 [==============================] - 12s 39ms/step - loss: 0.0698 - accuracy: 0.9820 - val_loss: 2.9348 - val_accuracy: 0.4440\n",
            "Epoch 215/500\n",
            "316/316 [==============================] - 12s 39ms/step - loss: 0.0758 - accuracy: 0.9789 - val_loss: 3.1699 - val_accuracy: 0.3950\n",
            "Epoch 216/500\n",
            "316/316 [==============================] - 12s 39ms/step - loss: 0.0730 - accuracy: 0.9799 - val_loss: 2.8891 - val_accuracy: 0.4240\n",
            "Epoch 217/500\n",
            "316/316 [==============================] - 13s 39ms/step - loss: 0.0631 - accuracy: 0.9819 - val_loss: 3.2939 - val_accuracy: 0.3860\n",
            "Epoch 218/500\n",
            "316/316 [==============================] - 12s 39ms/step - loss: 0.0699 - accuracy: 0.9823 - val_loss: 3.1423 - val_accuracy: 0.4160\n",
            "Epoch 219/500\n",
            "316/316 [==============================] - 13s 40ms/step - loss: 0.0718 - accuracy: 0.9807 - val_loss: 2.7725 - val_accuracy: 0.4600\n",
            "Epoch 220/500\n",
            "316/316 [==============================] - 13s 40ms/step - loss: 0.0709 - accuracy: 0.9804 - val_loss: 2.9754 - val_accuracy: 0.4390\n",
            "Epoch 221/500\n",
            "316/316 [==============================] - 12s 39ms/step - loss: 0.0662 - accuracy: 0.9814 - val_loss: 2.9534 - val_accuracy: 0.4170\n",
            "Epoch 222/500\n",
            "316/316 [==============================] - 12s 39ms/step - loss: 0.0697 - accuracy: 0.9817 - val_loss: 3.0999 - val_accuracy: 0.4320\n",
            "Epoch 223/500\n",
            "316/316 [==============================] - 12s 39ms/step - loss: 0.0699 - accuracy: 0.9803 - val_loss: 3.2132 - val_accuracy: 0.4050\n",
            "Epoch 224/500\n",
            "316/316 [==============================] - 12s 39ms/step - loss: 0.0750 - accuracy: 0.9807 - val_loss: 3.4765 - val_accuracy: 0.3960\n",
            "Epoch 225/500\n",
            "316/316 [==============================] - 12s 39ms/step - loss: 0.0905 - accuracy: 0.9791 - val_loss: 2.7217 - val_accuracy: 0.4680\n",
            "Epoch 226/500\n",
            "316/316 [==============================] - 12s 39ms/step - loss: 0.0650 - accuracy: 0.9813 - val_loss: 2.4558 - val_accuracy: 0.5020\n",
            "Epoch 227/500\n",
            "316/316 [==============================] - 12s 39ms/step - loss: 0.0625 - accuracy: 0.9817 - val_loss: 3.0445 - val_accuracy: 0.4240\n",
            "Epoch 228/500\n",
            "316/316 [==============================] - 12s 39ms/step - loss: 0.0732 - accuracy: 0.9806 - val_loss: 3.0016 - val_accuracy: 0.4400\n",
            "Epoch 229/500\n",
            "316/316 [==============================] - 12s 39ms/step - loss: 0.0737 - accuracy: 0.9804 - val_loss: 2.7954 - val_accuracy: 0.4570\n",
            "Epoch 230/500\n",
            "316/316 [==============================] - 12s 39ms/step - loss: 0.0763 - accuracy: 0.9802 - val_loss: 3.0827 - val_accuracy: 0.4270\n",
            "Epoch 231/500\n",
            "316/316 [==============================] - 12s 39ms/step - loss: 0.0731 - accuracy: 0.9807 - val_loss: 3.1304 - val_accuracy: 0.4170\n",
            "Epoch 232/500\n",
            "316/316 [==============================] - 12s 39ms/step - loss: 0.0687 - accuracy: 0.9814 - val_loss: 3.1118 - val_accuracy: 0.4150\n",
            "Epoch 233/500\n",
            "316/316 [==============================] - 12s 39ms/step - loss: 0.0680 - accuracy: 0.9797 - val_loss: 2.5957 - val_accuracy: 0.4700\n",
            "Epoch 234/500\n",
            "316/316 [==============================] - 12s 39ms/step - loss: 0.0617 - accuracy: 0.9827 - val_loss: 2.9001 - val_accuracy: 0.4420\n",
            "Epoch 235/500\n",
            "316/316 [==============================] - 12s 39ms/step - loss: 0.0714 - accuracy: 0.9796 - val_loss: 3.1624 - val_accuracy: 0.4020\n",
            "Epoch 236/500\n",
            "316/316 [==============================] - 12s 39ms/step - loss: 0.0687 - accuracy: 0.9826 - val_loss: 3.1590 - val_accuracy: 0.4180\n",
            "Epoch 237/500\n",
            "316/316 [==============================] - 12s 39ms/step - loss: 0.0718 - accuracy: 0.9812 - val_loss: 3.0191 - val_accuracy: 0.4210\n",
            "Epoch 238/500\n",
            "316/316 [==============================] - 12s 39ms/step - loss: 0.0771 - accuracy: 0.9822 - val_loss: 2.3229 - val_accuracy: 0.5180\n",
            "Epoch 239/500\n",
            "316/316 [==============================] - 12s 39ms/step - loss: 0.0586 - accuracy: 0.9830 - val_loss: 2.9953 - val_accuracy: 0.4170\n",
            "Epoch 240/500\n",
            "316/316 [==============================] - 12s 39ms/step - loss: 0.0745 - accuracy: 0.9795 - val_loss: 3.1220 - val_accuracy: 0.4110\n",
            "Epoch 241/500\n",
            "316/316 [==============================] - 12s 38ms/step - loss: 0.0744 - accuracy: 0.9795 - val_loss: 2.8546 - val_accuracy: 0.4310\n",
            "Epoch 242/500\n",
            "316/316 [==============================] - 12s 38ms/step - loss: 0.0718 - accuracy: 0.9803 - val_loss: 2.6448 - val_accuracy: 0.4760\n",
            "Epoch 243/500\n",
            "316/316 [==============================] - 12s 39ms/step - loss: 0.0668 - accuracy: 0.9798 - val_loss: 3.1232 - val_accuracy: 0.4190\n",
            "Epoch 244/500\n",
            "316/316 [==============================] - 12s 39ms/step - loss: 0.0734 - accuracy: 0.9806 - val_loss: 2.9621 - val_accuracy: 0.4290\n",
            "Epoch 245/500\n",
            "316/316 [==============================] - 12s 39ms/step - loss: 0.0709 - accuracy: 0.9809 - val_loss: 2.6487 - val_accuracy: 0.4710\n",
            "Epoch 246/500\n",
            "316/316 [==============================] - 12s 39ms/step - loss: 0.0676 - accuracy: 0.9821 - val_loss: 2.8871 - val_accuracy: 0.4510\n",
            "Epoch 247/500\n",
            "316/316 [==============================] - 12s 38ms/step - loss: 0.0650 - accuracy: 0.9827 - val_loss: 2.7577 - val_accuracy: 0.4550\n",
            "Epoch 248/500\n",
            "316/316 [==============================] - 12s 39ms/step - loss: 0.0701 - accuracy: 0.9813 - val_loss: 2.9616 - val_accuracy: 0.4320\n",
            "Epoch 249/500\n",
            "316/316 [==============================] - 12s 39ms/step - loss: 0.0710 - accuracy: 0.9812 - val_loss: 2.7257 - val_accuracy: 0.4820\n",
            "Epoch 250/500\n",
            "315/316 [============================>.] - ETA: 0s - loss: 0.0659 - accuracy: 0.9823\n",
            "Epoch 00250: saving model to /content/drive/MyDrive/ML-DeepFakes-Detection/saved_model/training_1/cp-0250.ckpt\n",
            "316/316 [==============================] - 13s 40ms/step - loss: 0.0657 - accuracy: 0.9824 - val_loss: 2.8390 - val_accuracy: 0.4420\n",
            "Epoch 251/500\n",
            "316/316 [==============================] - 12s 39ms/step - loss: 0.0668 - accuracy: 0.9814 - val_loss: 2.2424 - val_accuracy: 0.5230\n",
            "Epoch 252/500\n",
            "316/316 [==============================] - 12s 39ms/step - loss: 0.0620 - accuracy: 0.9833 - val_loss: 2.9227 - val_accuracy: 0.4370\n",
            "Epoch 253/500\n",
            "316/316 [==============================] - 12s 39ms/step - loss: 0.0628 - accuracy: 0.9811 - val_loss: 2.8703 - val_accuracy: 0.4540\n",
            "Epoch 254/500\n",
            "316/316 [==============================] - 12s 39ms/step - loss: 0.0685 - accuracy: 0.9825 - val_loss: 2.7663 - val_accuracy: 0.4600\n",
            "Epoch 255/500\n",
            "316/316 [==============================] - 12s 39ms/step - loss: 0.0624 - accuracy: 0.9833 - val_loss: 3.0104 - val_accuracy: 0.4260\n",
            "Epoch 256/500\n",
            "316/316 [==============================] - 12s 39ms/step - loss: 0.0635 - accuracy: 0.9820 - val_loss: 2.4127 - val_accuracy: 0.4910\n",
            "Epoch 257/500\n",
            "316/316 [==============================] - 12s 39ms/step - loss: 0.0604 - accuracy: 0.9835 - val_loss: 2.6340 - val_accuracy: 0.4820\n",
            "Epoch 258/500\n",
            "316/316 [==============================] - 12s 39ms/step - loss: 0.0740 - accuracy: 0.9799 - val_loss: 2.9040 - val_accuracy: 0.4430\n",
            "Epoch 259/500\n",
            "316/316 [==============================] - 12s 39ms/step - loss: 0.0630 - accuracy: 0.9816 - val_loss: 3.2304 - val_accuracy: 0.3950\n",
            "Epoch 260/500\n",
            "316/316 [==============================] - 12s 39ms/step - loss: 0.0779 - accuracy: 0.9804 - val_loss: 2.4375 - val_accuracy: 0.5050\n",
            "Epoch 261/500\n",
            "316/316 [==============================] - 12s 39ms/step - loss: 0.0649 - accuracy: 0.9816 - val_loss: 2.7196 - val_accuracy: 0.4730\n",
            "Epoch 262/500\n",
            "316/316 [==============================] - 12s 39ms/step - loss: 0.0575 - accuracy: 0.9835 - val_loss: 2.9499 - val_accuracy: 0.4270\n",
            "Epoch 263/500\n",
            "316/316 [==============================] - 12s 39ms/step - loss: 0.0707 - accuracy: 0.9812 - val_loss: 2.5472 - val_accuracy: 0.4930\n",
            "Epoch 264/500\n",
            "316/316 [==============================] - 12s 39ms/step - loss: 0.0637 - accuracy: 0.9821 - val_loss: 2.9424 - val_accuracy: 0.4480\n",
            "Epoch 265/500\n",
            "316/316 [==============================] - 12s 39ms/step - loss: 0.0630 - accuracy: 0.9839 - val_loss: 2.6636 - val_accuracy: 0.4620\n",
            "Epoch 266/500\n",
            "316/316 [==============================] - 12s 39ms/step - loss: 0.0598 - accuracy: 0.9830 - val_loss: 2.8643 - val_accuracy: 0.4550\n",
            "Epoch 267/500\n",
            "316/316 [==============================] - 13s 40ms/step - loss: 0.0695 - accuracy: 0.9826 - val_loss: 2.8118 - val_accuracy: 0.4590\n",
            "Epoch 268/500\n",
            "316/316 [==============================] - 12s 39ms/step - loss: 0.0684 - accuracy: 0.9811 - val_loss: 3.2601 - val_accuracy: 0.3940\n"
          ],
          "name": "stdout"
        },
        {
          "output_type": "error",
          "ename": "KeyboardInterrupt",
          "evalue": "ignored",
          "traceback": [
            "\u001b[0;31m---------------------------------------------------------------------------\u001b[0m",
            "\u001b[0;31mKeyboardInterrupt\u001b[0m                         Traceback (most recent call last)",
            "\u001b[0;32m<ipython-input-27-a05174b7f4ee>\u001b[0m in \u001b[0;36m<module>\u001b[0;34m()\u001b[0m\n\u001b[1;32m      3\u001b[0m           \u001b[0mbatch_size\u001b[0m\u001b[0;34m=\u001b[0m\u001b[0;36m32\u001b[0m\u001b[0;34m,\u001b[0m\u001b[0;34m\u001b[0m\u001b[0;34m\u001b[0m\u001b[0m\n\u001b[1;32m      4\u001b[0m           \u001b[0mepochs\u001b[0m\u001b[0;34m=\u001b[0m\u001b[0;36m500\u001b[0m\u001b[0;34m,\u001b[0m\u001b[0;34m\u001b[0m\u001b[0;34m\u001b[0m\u001b[0m\n\u001b[0;32m----> 5\u001b[0;31m           callbacks=[cp_callback])\n\u001b[0m",
            "\u001b[0;32m/usr/local/lib/python3.6/dist-packages/tensorflow/python/keras/engine/training.py\u001b[0m in \u001b[0;36mfit\u001b[0;34m(self, x, y, batch_size, epochs, verbose, callbacks, validation_split, validation_data, shuffle, class_weight, sample_weight, initial_epoch, steps_per_epoch, validation_steps, validation_batch_size, validation_freq, max_queue_size, workers, use_multiprocessing)\u001b[0m\n\u001b[1;32m   1086\u001b[0m           self._maybe_load_initial_epoch_from_ckpt(initial_epoch))\n\u001b[1;32m   1087\u001b[0m       \u001b[0mlogs\u001b[0m \u001b[0;34m=\u001b[0m \u001b[0;32mNone\u001b[0m\u001b[0;34m\u001b[0m\u001b[0;34m\u001b[0m\u001b[0m\n\u001b[0;32m-> 1088\u001b[0;31m       \u001b[0;32mfor\u001b[0m \u001b[0mepoch\u001b[0m\u001b[0;34m,\u001b[0m \u001b[0miterator\u001b[0m \u001b[0;32min\u001b[0m \u001b[0mdata_handler\u001b[0m\u001b[0;34m.\u001b[0m\u001b[0menumerate_epochs\u001b[0m\u001b[0;34m(\u001b[0m\u001b[0;34m)\u001b[0m\u001b[0;34m:\u001b[0m\u001b[0;34m\u001b[0m\u001b[0;34m\u001b[0m\u001b[0m\n\u001b[0m\u001b[1;32m   1089\u001b[0m         \u001b[0mself\u001b[0m\u001b[0;34m.\u001b[0m\u001b[0mreset_metrics\u001b[0m\u001b[0;34m(\u001b[0m\u001b[0;34m)\u001b[0m\u001b[0;34m\u001b[0m\u001b[0;34m\u001b[0m\u001b[0m\n\u001b[1;32m   1090\u001b[0m         \u001b[0mcallbacks\u001b[0m\u001b[0;34m.\u001b[0m\u001b[0mon_epoch_begin\u001b[0m\u001b[0;34m(\u001b[0m\u001b[0mepoch\u001b[0m\u001b[0;34m)\u001b[0m\u001b[0;34m\u001b[0m\u001b[0;34m\u001b[0m\u001b[0m\n",
            "\u001b[0;32m/usr/local/lib/python3.6/dist-packages/tensorflow/python/keras/engine/data_adapter.py\u001b[0m in \u001b[0;36menumerate_epochs\u001b[0;34m(self)\u001b[0m\n\u001b[1;32m   1136\u001b[0m           \u001b[0;32mbreak\u001b[0m\u001b[0;34m\u001b[0m\u001b[0;34m\u001b[0m\u001b[0m\n\u001b[1;32m   1137\u001b[0m         \u001b[0;32mif\u001b[0m \u001b[0mself\u001b[0m\u001b[0;34m.\u001b[0m\u001b[0m_adapter\u001b[0m\u001b[0;34m.\u001b[0m\u001b[0mshould_recreate_iterator\u001b[0m\u001b[0;34m(\u001b[0m\u001b[0;34m)\u001b[0m\u001b[0;34m:\u001b[0m\u001b[0;34m\u001b[0m\u001b[0;34m\u001b[0m\u001b[0m\n\u001b[0;32m-> 1138\u001b[0;31m           \u001b[0mdata_iterator\u001b[0m \u001b[0;34m=\u001b[0m \u001b[0miter\u001b[0m\u001b[0;34m(\u001b[0m\u001b[0mself\u001b[0m\u001b[0;34m.\u001b[0m\u001b[0m_dataset\u001b[0m\u001b[0;34m)\u001b[0m\u001b[0;34m\u001b[0m\u001b[0;34m\u001b[0m\u001b[0m\n\u001b[0m\u001b[1;32m   1139\u001b[0m         \u001b[0;32myield\u001b[0m \u001b[0mepoch\u001b[0m\u001b[0;34m,\u001b[0m \u001b[0mdata_iterator\u001b[0m\u001b[0;34m\u001b[0m\u001b[0;34m\u001b[0m\u001b[0m\n\u001b[1;32m   1140\u001b[0m         \u001b[0mself\u001b[0m\u001b[0;34m.\u001b[0m\u001b[0m_adapter\u001b[0m\u001b[0;34m.\u001b[0m\u001b[0mon_epoch_end\u001b[0m\u001b[0;34m(\u001b[0m\u001b[0;34m)\u001b[0m\u001b[0;34m\u001b[0m\u001b[0;34m\u001b[0m\u001b[0m\n",
            "\u001b[0;32m/usr/local/lib/python3.6/dist-packages/tensorflow/python/data/ops/dataset_ops.py\u001b[0m in \u001b[0;36m__iter__\u001b[0;34m(self)\u001b[0m\n\u001b[1;32m    420\u001b[0m     \u001b[0;32mif\u001b[0m \u001b[0mcontext\u001b[0m\u001b[0;34m.\u001b[0m\u001b[0mexecuting_eagerly\u001b[0m\u001b[0;34m(\u001b[0m\u001b[0;34m)\u001b[0m \u001b[0;32mor\u001b[0m \u001b[0mops\u001b[0m\u001b[0;34m.\u001b[0m\u001b[0minside_function\u001b[0m\u001b[0;34m(\u001b[0m\u001b[0;34m)\u001b[0m\u001b[0;34m:\u001b[0m\u001b[0;34m\u001b[0m\u001b[0;34m\u001b[0m\u001b[0m\n\u001b[1;32m    421\u001b[0m       \u001b[0;32mwith\u001b[0m \u001b[0mops\u001b[0m\u001b[0;34m.\u001b[0m\u001b[0mcolocate_with\u001b[0m\u001b[0;34m(\u001b[0m\u001b[0mself\u001b[0m\u001b[0;34m.\u001b[0m\u001b[0m_variant_tensor\u001b[0m\u001b[0;34m)\u001b[0m\u001b[0;34m:\u001b[0m\u001b[0;34m\u001b[0m\u001b[0;34m\u001b[0m\u001b[0m\n\u001b[0;32m--> 422\u001b[0;31m         \u001b[0;32mreturn\u001b[0m \u001b[0miterator_ops\u001b[0m\u001b[0;34m.\u001b[0m\u001b[0mOwnedIterator\u001b[0m\u001b[0;34m(\u001b[0m\u001b[0mself\u001b[0m\u001b[0;34m)\u001b[0m\u001b[0;34m\u001b[0m\u001b[0;34m\u001b[0m\u001b[0m\n\u001b[0m\u001b[1;32m    423\u001b[0m     \u001b[0;32melse\u001b[0m\u001b[0;34m:\u001b[0m\u001b[0;34m\u001b[0m\u001b[0;34m\u001b[0m\u001b[0m\n\u001b[1;32m    424\u001b[0m       raise RuntimeError(\"__iter__() is only supported inside of tf.function \"\n",
            "\u001b[0;32m/usr/local/lib/python3.6/dist-packages/tensorflow/python/data/ops/iterator_ops.py\u001b[0m in \u001b[0;36m__init__\u001b[0;34m(self, dataset, components, element_spec)\u001b[0m\n\u001b[1;32m    680\u001b[0m       \u001b[0;32mif\u001b[0m \u001b[0;34m(\u001b[0m\u001b[0mcomponents\u001b[0m \u001b[0;32mis\u001b[0m \u001b[0;32mnot\u001b[0m \u001b[0;32mNone\u001b[0m \u001b[0;32mor\u001b[0m \u001b[0melement_spec\u001b[0m \u001b[0;32mis\u001b[0m \u001b[0;32mnot\u001b[0m \u001b[0;32mNone\u001b[0m\u001b[0;34m)\u001b[0m\u001b[0;34m:\u001b[0m\u001b[0;34m\u001b[0m\u001b[0;34m\u001b[0m\u001b[0m\n\u001b[1;32m    681\u001b[0m         \u001b[0;32mraise\u001b[0m \u001b[0mValueError\u001b[0m\u001b[0;34m(\u001b[0m\u001b[0merror_message\u001b[0m\u001b[0;34m)\u001b[0m\u001b[0;34m\u001b[0m\u001b[0;34m\u001b[0m\u001b[0m\n\u001b[0;32m--> 682\u001b[0;31m       \u001b[0mself\u001b[0m\u001b[0;34m.\u001b[0m\u001b[0m_create_iterator\u001b[0m\u001b[0;34m(\u001b[0m\u001b[0mdataset\u001b[0m\u001b[0;34m)\u001b[0m\u001b[0;34m\u001b[0m\u001b[0;34m\u001b[0m\u001b[0m\n\u001b[0m\u001b[1;32m    683\u001b[0m \u001b[0;34m\u001b[0m\u001b[0m\n\u001b[1;32m    684\u001b[0m   \u001b[0;32mdef\u001b[0m \u001b[0m_create_iterator\u001b[0m\u001b[0;34m(\u001b[0m\u001b[0mself\u001b[0m\u001b[0;34m,\u001b[0m \u001b[0mdataset\u001b[0m\u001b[0;34m)\u001b[0m\u001b[0;34m:\u001b[0m\u001b[0;34m\u001b[0m\u001b[0;34m\u001b[0m\u001b[0m\n",
            "\u001b[0;32m/usr/local/lib/python3.6/dist-packages/tensorflow/python/data/ops/iterator_ops.py\u001b[0m in \u001b[0;36m_create_iterator\u001b[0;34m(self, dataset)\u001b[0m\n\u001b[1;32m    684\u001b[0m   \u001b[0;32mdef\u001b[0m \u001b[0m_create_iterator\u001b[0m\u001b[0;34m(\u001b[0m\u001b[0mself\u001b[0m\u001b[0;34m,\u001b[0m \u001b[0mdataset\u001b[0m\u001b[0;34m)\u001b[0m\u001b[0;34m:\u001b[0m\u001b[0;34m\u001b[0m\u001b[0;34m\u001b[0m\u001b[0m\n\u001b[1;32m    685\u001b[0m     \u001b[0;31m# pylint: disable=protected-access\u001b[0m\u001b[0;34m\u001b[0m\u001b[0;34m\u001b[0m\u001b[0;34m\u001b[0m\u001b[0m\n\u001b[0;32m--> 686\u001b[0;31m     \u001b[0mdataset\u001b[0m \u001b[0;34m=\u001b[0m \u001b[0mdataset\u001b[0m\u001b[0;34m.\u001b[0m\u001b[0m_apply_options\u001b[0m\u001b[0;34m(\u001b[0m\u001b[0;34m)\u001b[0m\u001b[0;34m\u001b[0m\u001b[0;34m\u001b[0m\u001b[0m\n\u001b[0m\u001b[1;32m    687\u001b[0m \u001b[0;34m\u001b[0m\u001b[0m\n\u001b[1;32m    688\u001b[0m     \u001b[0;31m# Store dataset reference to ensure that dataset is alive when this iterator\u001b[0m\u001b[0;34m\u001b[0m\u001b[0;34m\u001b[0m\u001b[0;34m\u001b[0m\u001b[0m\n",
            "\u001b[0;32m/usr/local/lib/python3.6/dist-packages/tensorflow/python/data/ops/dataset_ops.py\u001b[0m in \u001b[0;36m_apply_options\u001b[0;34m(self)\u001b[0m\n\u001b[1;32m    397\u001b[0m       dataset = _OptimizeDataset(dataset, graph_rewrites.enabled,\n\u001b[1;32m    398\u001b[0m                                  \u001b[0mgraph_rewrites\u001b[0m\u001b[0;34m.\u001b[0m\u001b[0mdisabled\u001b[0m\u001b[0;34m,\u001b[0m\u001b[0;34m\u001b[0m\u001b[0;34m\u001b[0m\u001b[0m\n\u001b[0;32m--> 399\u001b[0;31m                                  graph_rewrites.default, graph_rewrite_configs)\n\u001b[0m\u001b[1;32m    400\u001b[0m \u001b[0;34m\u001b[0m\u001b[0m\n\u001b[1;32m    401\u001b[0m     \u001b[0;31m# (4) Apply stats aggregator options\u001b[0m\u001b[0;34m\u001b[0m\u001b[0;34m\u001b[0m\u001b[0;34m\u001b[0m\u001b[0m\n",
            "\u001b[0;32m/usr/local/lib/python3.6/dist-packages/tensorflow/python/data/ops/dataset_ops.py\u001b[0m in \u001b[0;36m__init__\u001b[0;34m(self, input_dataset, optimizations_enabled, optimizations_disabled, optimizations_default, optimization_configs)\u001b[0m\n\u001b[1;32m   4581\u001b[0m         \u001b[0mself\u001b[0m\u001b[0;34m.\u001b[0m\u001b[0m_optimizations_default\u001b[0m\u001b[0;34m,\u001b[0m\u001b[0;34m\u001b[0m\u001b[0;34m\u001b[0m\u001b[0m\n\u001b[1;32m   4582\u001b[0m         \u001b[0moptimization_configs\u001b[0m\u001b[0;34m=\u001b[0m\u001b[0moptimization_configs\u001b[0m\u001b[0;34m,\u001b[0m\u001b[0;34m\u001b[0m\u001b[0;34m\u001b[0m\u001b[0m\n\u001b[0;32m-> 4583\u001b[0;31m         **self._flat_structure)\n\u001b[0m\u001b[1;32m   4584\u001b[0m \u001b[0;34m\u001b[0m\u001b[0m\n\u001b[1;32m   4585\u001b[0m     \u001b[0msuper\u001b[0m\u001b[0;34m(\u001b[0m\u001b[0m_OptimizeDataset\u001b[0m\u001b[0;34m,\u001b[0m \u001b[0mself\u001b[0m\u001b[0;34m)\u001b[0m\u001b[0;34m.\u001b[0m\u001b[0m__init__\u001b[0m\u001b[0;34m(\u001b[0m\u001b[0minput_dataset\u001b[0m\u001b[0;34m,\u001b[0m \u001b[0mvariant_tensor\u001b[0m\u001b[0;34m)\u001b[0m\u001b[0;34m\u001b[0m\u001b[0;34m\u001b[0m\u001b[0m\n",
            "\u001b[0;32m/usr/local/lib/python3.6/dist-packages/tensorflow/python/ops/gen_dataset_ops.py\u001b[0m in \u001b[0;36moptimize_dataset_v2\u001b[0;34m(input_dataset, optimizations_enabled, optimizations_disabled, optimizations_default, output_types, output_shapes, optimization_configs, name)\u001b[0m\n\u001b[1;32m   4023\u001b[0m         \u001b[0moptimizations_disabled\u001b[0m\u001b[0;34m,\u001b[0m \u001b[0moptimizations_default\u001b[0m\u001b[0;34m,\u001b[0m \u001b[0;34m\"output_types\"\u001b[0m\u001b[0;34m,\u001b[0m\u001b[0;34m\u001b[0m\u001b[0;34m\u001b[0m\u001b[0m\n\u001b[1;32m   4024\u001b[0m         \u001b[0moutput_types\u001b[0m\u001b[0;34m,\u001b[0m \u001b[0;34m\"output_shapes\"\u001b[0m\u001b[0;34m,\u001b[0m \u001b[0moutput_shapes\u001b[0m\u001b[0;34m,\u001b[0m \u001b[0;34m\"optimization_configs\"\u001b[0m\u001b[0;34m,\u001b[0m\u001b[0;34m\u001b[0m\u001b[0;34m\u001b[0m\u001b[0m\n\u001b[0;32m-> 4025\u001b[0;31m         optimization_configs)\n\u001b[0m\u001b[1;32m   4026\u001b[0m       \u001b[0;32mreturn\u001b[0m \u001b[0m_result\u001b[0m\u001b[0;34m\u001b[0m\u001b[0;34m\u001b[0m\u001b[0m\n\u001b[1;32m   4027\u001b[0m     \u001b[0;32mexcept\u001b[0m \u001b[0m_core\u001b[0m\u001b[0;34m.\u001b[0m\u001b[0m_NotOkStatusException\u001b[0m \u001b[0;32mas\u001b[0m \u001b[0me\u001b[0m\u001b[0;34m:\u001b[0m\u001b[0;34m\u001b[0m\u001b[0;34m\u001b[0m\u001b[0m\n",
            "\u001b[0;31mKeyboardInterrupt\u001b[0m: "
          ]
        }
      ]
    },
    {
      "cell_type": "code",
      "metadata": {
        "id": "Cr85Tx_QWBQz"
      },
      "source": [
        "model.save('/content/drive/MyDrive/ML-DeepFakes-Detection/saved_model/run1.h5',save_format='h5')"
      ],
      "execution_count": null,
      "outputs": []
    },
    {
      "cell_type": "code",
      "metadata": {
        "id": "6rJ4PMMDDrjt"
      },
      "source": [
        "model.fit(train_dataset,\n",
        "          validation_data=val_data,\n",
        "          batch_size=32,\n",
        "          epochs=1000,  \n",
        "          callbacks=[tensorboard_callback])"
      ],
      "execution_count": null,
      "outputs": []
    },
    {
      "cell_type": "code",
      "metadata": {
        "id": "zta1OsNoIGpW"
      },
      "source": [
        "model.fit(train_dataset,\n",
        "          validation_data=val_data,\n",
        "          batch_size=32,\n",
        "          epochs=1000,  \n",
        "          callbacks=[tensorboard_callback])"
      ],
      "execution_count": null,
      "outputs": []
    },
    {
      "cell_type": "markdown",
      "metadata": {
        "id": "uycI4YE0A8gp"
      },
      "source": [
        "Testing\n"
      ]
    },
    {
      "cell_type": "code",
      "metadata": {
        "colab": {
          "base_uri": "https://localhost:8080/"
        },
        "id": "-w6wyjnNA_gT",
        "outputId": "a043a1c0-dc08-499c-cb9f-107e36355fbd"
      },
      "source": [
        "with open('/content/video_data/fake1', 'rb') as f:\n",
        "    new_array = pickle.load(f)\n",
        "f.close()\n",
        "new_array=new_array[1:,:,:,:]\n",
        "x=np.array([1,0])\n",
        "print(new_array.shape)\n",
        "new_label=np.zeros((len(new_array)))\n",
        "print(new_label.shape)"
      ],
      "execution_count": null,
      "outputs": [
        {
          "output_type": "stream",
          "text": [
            "(300, 100, 100, 3)\n",
            "(300,)\n"
          ],
          "name": "stdout"
        }
      ]
    },
    {
      "cell_type": "code",
      "metadata": {
        "id": "1Y_OyR4iMY5t"
      },
      "source": [
        "test_labels=np.hstack([new_label])\n",
        "l=tf.keras.utils.to_categorical(test_labels, num_classes=2)\n"
      ],
      "execution_count": null,
      "outputs": []
    },
    {
      "cell_type": "code",
      "metadata": {
        "colab": {
          "base_uri": "https://localhost:8080/"
        },
        "id": "Nv2ptudmBbNb",
        "outputId": "f985d9a7-4ee0-4e00-fa58-dc237f809700"
      },
      "source": [
        "tensor=tf.convert_to_tensor(new_array)\n",
        "label=tf.convert_to_tensor(l)\n",
        "model.evaluate(tensor,label)"
      ],
      "execution_count": null,
      "outputs": [
        {
          "output_type": "stream",
          "text": [
            "10/10 [==============================] - 1s 52ms/step - loss: 4.9303e-07 - accuracy: 1.0000\n"
          ],
          "name": "stdout"
        },
        {
          "output_type": "execute_result",
          "data": {
            "text/plain": [
              "[4.930301997774222e-07, 1.0]"
            ]
          },
          "metadata": {
            "tags": []
          },
          "execution_count": 51
        }
      ]
    },
    {
      "cell_type": "code",
      "metadata": {
        "id": "bahZQXR4BvbG"
      },
      "source": [
        "model(tensor)"
      ],
      "execution_count": null,
      "outputs": []
    },
    {
      "cell_type": "markdown",
      "metadata": {
        "id": "2YG3t23tNb4E"
      },
      "source": [
        "**Testing on a random video**"
      ]
    },
    {
      "cell_type": "code",
      "metadata": {
        "id": "CtFjj7pHP3Pp"
      },
      "source": [
        "import dlib\n",
        "from google.colab.patches import cv2_imshow\n",
        "detector = dlib.get_frontal_face_detector()\n",
        "import cv2"
      ],
      "execution_count": null,
      "outputs": []
    },
    {
      "cell_type": "code",
      "metadata": {
        "id": "MZINxv_EJIRl"
      },
      "source": [
        "#video is fake. Lets see how model predicts\n",
        "!mkdir test-vid\n",
        "! cp /content/drive/MyDrive/ML-DeepFakes-Detection/Kaggle_Dataset/extracted/dfdc_train_part_18/baeajscskm.mp4 /content/test-vid/fake.mp4"
      ],
      "execution_count": null,
      "outputs": []
    },
    {
      "cell_type": "code",
      "metadata": {
        "id": "cqxX_zdYOzzI"
      },
      "source": [
        "fake_vid=np.zeros((1,100,100,3))\n",
        "  #dir= directory + str(i) + '.mp4'\n",
        "  #print(dir)  \n",
        "  #fake_vid=video_to_file(dir, fake_vid)\n",
        "dir='/content/test-vid/fake.mp4'\n",
        "video_cap=cv2.VideoCapture(dir)\n",
        "while(video_cap.isOpened()):\n",
        "  ret,frame=video_cap.read()\n",
        "  if (ret==False):\n",
        "    break\n",
        "  face = detector(frame, 1)\n",
        "  if (len(face)):\n",
        "    face=face[0]\n",
        "    crop_img=frame[face.top():face.bottom(),face.left():face.right()]\n",
        "    crop_img=cv2.resize(crop_img,(100,100))\n",
        "      #cv2_imshow(crop_img)\n",
        "    crop_img = np.array(crop_img)\n",
        "    cropped = np.expand_dims(crop_img, axis=0)\n",
        "    fake_vid=np.append(fake_vid, cropped, axis=0)"
      ],
      "execution_count": null,
      "outputs": []
    },
    {
      "cell_type": "code",
      "metadata": {
        "colab": {
          "base_uri": "https://localhost:8080/"
        },
        "id": "HPb26ECvQCJ-",
        "outputId": "469a8e0e-5298-4ce4-e3cf-12b3393345f8"
      },
      "source": [
        "new_array=fake_vid[1:,:,:,:]\n",
        "x=np.array([1,0])\n",
        "print(new_array.shape)\n",
        "new_label=np.zeros((len(new_array)))\n",
        "print(new_label.shape)\n",
        "\n",
        "test_labels=np.hstack([new_label])\n",
        "l=tf.keras.utils.to_categorical(test_labels, num_classes=2)\n",
        "tensor=tf.convert_to_tensor(new_array)\n",
        "label=tf.convert_to_tensor(l)\n",
        "model.evaluate(tensor,label)"
      ],
      "execution_count": null,
      "outputs": [
        {
          "output_type": "stream",
          "text": [
            "(293, 100, 100, 3)\n",
            "(293,)\n",
            "10/10 [==============================] - 1s 54ms/step - loss: 1.8945 - accuracy: 0.6792\n"
          ],
          "name": "stdout"
        },
        {
          "output_type": "execute_result",
          "data": {
            "text/plain": [
              "[1.8944752216339111, 0.6791808605194092]"
            ]
          },
          "metadata": {
            "tags": []
          },
          "execution_count": 57
        }
      ]
    },
    {
      "cell_type": "code",
      "metadata": {
        "id": "L1vc0eieR2Yx"
      },
      "source": [
        "model(tensor)"
      ],
      "execution_count": null,
      "outputs": []
    },
    {
      "cell_type": "code",
      "metadata": {
        "id": "pj1o571FR_A1"
      },
      "source": [
        ""
      ],
      "execution_count": null,
      "outputs": []
    }
  ]
}