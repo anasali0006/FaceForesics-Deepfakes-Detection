{
  "nbformat": 4,
  "nbformat_minor": 0,
  "metadata": {
    "colab": {
      "name": "Dataset_training.ipynb",
      "provenance": [],
      "collapsed_sections": [],
      "toc_visible": true,
      "mount_file_id": "1SDAIe-IlfW0YF755lL15_KcNt2Wa4p5a",
      "authorship_tag": "ABX9TyPiDaP2mbwY4CdIQxOKDgUs",
      "include_colab_link": true
    },
    "kernelspec": {
      "display_name": "Python 3",
      "name": "python3"
    }
  },
  "cells": [
    {
      "cell_type": "markdown",
      "metadata": {
        "id": "view-in-github",
        "colab_type": "text"
      },
      "source": [
        "<a href=\"https://colab.research.google.com/github/anasali0006/FaceForesics-Deepfakes-Detection/blob/main/Video_to_Images.ipynb\" target=\"_parent\"><img src=\"https://colab.research.google.com/assets/colab-badge.svg\" alt=\"Open In Colab\"/></a>"
      ]
    },
    {
      "cell_type": "code",
      "metadata": {
        "colab": {
          "base_uri": "https://localhost:8080/"
        },
        "id": "B7NAnQkarhWN",
        "outputId": "a501b7f8-567f-4848-ac66-480fab060428"
      },
      "source": [
        "from google.colab import drive\n",
        "drive.mount('/content/drive')"
      ],
      "execution_count": null,
      "outputs": [
        {
          "output_type": "stream",
          "text": [
            "Drive already mounted at /content/drive; to attempt to forcibly remount, call drive.mount(\"/content/drive\", force_remount=True).\n"
          ],
          "name": "stdout"
        }
      ]
    },
    {
      "cell_type": "markdown",
      "metadata": {
        "id": "FD-bxGcqIBtl"
      },
      "source": [
        "# **Copying the selected videos in the colab**"
      ]
    },
    {
      "cell_type": "code",
      "metadata": {
        "id": "TeelANKjrowo"
      },
      "source": [
        "x={\"iueofqnitn.mp4\": {\"label\": \"FAKE\", \"split\": \"train\", \"original\": \"xatruuhtpv.mp4\"}, \"vcbgvdnvlc.mp4\": {\"label\": \"FAKE\", \"split\": \"train\", \"original\": \"duplyxsudb.mp4\"}, \"btsyjxkhsz.mp4\": {\"label\": \"FAKE\", \"split\": \"train\", \"original\": \"sxwdupqijr.mp4\"}, \"vznxsshhdy.mp4\": {\"label\": \"FAKE\", \"split\": \"train\", \"original\": \"uhrvmearuj.mp4\"}, \"qjqafllxfz.mp4\": {\"label\": \"FAKE\", \"split\": \"train\", \"original\": \"zcbhzngluj.mp4\"}, \"mwapcvbqco.mp4\": {\"label\": \"FAKE\", \"split\": \"train\", \"original\": \"oihnqftsls.mp4\"}, \"cqahjlxssx.mp4\": {\"label\": \"FAKE\", \"split\": \"train\", \"original\": \"qgiygiqybs.mp4\"}, \"wcovfnrnev.mp4\": {\"label\": \"FAKE\", \"split\": \"train\", \"original\": \"fdgbgxddbt.mp4\"}, \"yazrsbwbnd.mp4\": {\"label\": \"FAKE\", \"split\": \"train\", \"original\": \"rswmrfllpo.mp4\"}, \"cedydlkhff.mp4\": {\"label\": \"FAKE\", \"split\": \"train\", \"original\": \"upezcrcdqz.mp4\"}, \"cqidzzgjjr.mp4\": {\"label\": \"FAKE\", \"split\": \"train\", \"original\": \"fwzjvfcdji.mp4\"}, \"kxspftcepn.mp4\": {\"label\": \"FAKE\", \"split\": \"train\", \"original\": \"vhkxxdxgcn.mp4\"}, \"hzoajqujew.mp4\": {\"label\": \"FAKE\", \"split\": \"train\", \"original\": \"lkmgyyyrpk.mp4\"}, \"pzntdswwjs.mp4\": {\"label\": \"FAKE\", \"split\": \"train\", \"original\": \"zovvcyafzh.mp4\"}, \"senrirjhwh.mp4\": {\"label\": \"FAKE\", \"split\": \"train\", \"original\": \"vngmafoyik.mp4\"}, \"zetkmzprvm.mp4\": {\"label\": \"FAKE\", \"split\": \"train\", \"original\": \"afqhjqevie.mp4\"}, \"bgneigofxm.mp4\": {\"label\": \"FAKE\", \"split\": \"train\", \"original\": \"zxuopquqrt.mp4\"}, \"nzxncyfeaj.mp4\": {\"label\": \"FAKE\", \"split\": \"train\", \"original\": \"msqdpgokcx.mp4\"}, \"ggysrtzwya.mp4\": {\"label\": \"FAKE\", \"split\": \"train\", \"original\": \"bpwynspgkx.mp4\"}, \"uoxlvtlelj.mp4\": {\"label\": \"FAKE\", \"split\": \"train\", \"original\": \"tjqrbghiiz.mp4\"}, \"asyvhuglhs.mp4\": {\"label\": \"FAKE\", \"split\": \"train\", \"original\": \"bpwynspgkx.mp4\"}, \"ttorxjzuwe.mp4\": {\"label\": \"FAKE\", \"split\": \"train\", \"original\": \"lwziasznji.mp4\"}, \"hxewjezhlo.mp4\": {\"label\": \"FAKE\", \"split\": \"train\", \"original\": \"fwzjvfcdji.mp4\"}, \"aydiylfrlh.mp4\": {\"label\": \"FAKE\", \"split\": \"train\", \"original\": \"lkmgyyyrpk.mp4\"}}"
      ],
      "execution_count": null,
      "outputs": []
    },
    {
      "cell_type": "code",
      "metadata": {
        "colab": {
          "base_uri": "https://localhost:8080/"
        },
        "id": "57yLAS7Er2z1",
        "outputId": "b985555f-0317-4b36-90af-e0d194df3b7e"
      },
      "source": [
        "x.keys()"
      ],
      "execution_count": null,
      "outputs": [
        {
          "output_type": "execute_result",
          "data": {
            "text/plain": [
              "dict_keys(['iueofqnitn.mp4', 'vcbgvdnvlc.mp4', 'btsyjxkhsz.mp4', 'vznxsshhdy.mp4', 'qjqafllxfz.mp4', 'mwapcvbqco.mp4', 'cqahjlxssx.mp4', 'wcovfnrnev.mp4', 'yazrsbwbnd.mp4', 'cedydlkhff.mp4', 'cqidzzgjjr.mp4', 'kxspftcepn.mp4', 'hzoajqujew.mp4', 'pzntdswwjs.mp4', 'bppqpsrvjt.mp4', 'senrirjhwh.mp4', 'zetkmzprvm.mp4', 'bgneigofxm.mp4', 'nzxncyfeaj.mp4', 'ggysrtzwya.mp4', 'uoxlvtlelj.mp4', 'asyvhuglhs.mp4', 'ttorxjzuwe.mp4', 'hxewjezhlo.mp4', 'aydiylfrlh.mp4'])"
            ]
          },
          "metadata": {
            "tags": []
          },
          "execution_count": 4
        }
      ]
    },
    {
      "cell_type": "code",
      "metadata": {
        "id": "ktYqC3BJuY0d"
      },
      "source": [
        "y=list(x.keys())[0]"
      ],
      "execution_count": null,
      "outputs": []
    },
    {
      "cell_type": "code",
      "metadata": {
        "id": "sLeFaZDy8AgU"
      },
      "source": [
        "path=\"/content/drive/MyDrive/ML-DeepFakes-Detection/Kaggle_Dataset/extracted/dfdc_train_part_18/{name}\".format(name=y)"
      ],
      "execution_count": null,
      "outputs": []
    },
    {
      "cell_type": "code",
      "metadata": {
        "id": "aDQx6tV2HlPH"
      },
      "source": [
        "!mkdir Videos"
      ],
      "execution_count": null,
      "outputs": []
    },
    {
      "cell_type": "code",
      "metadata": {
        "id": "aCcw-oAT0UJt"
      },
      "source": [
        "!cp {path} /content/Videos/1.mp4"
      ],
      "execution_count": null,
      "outputs": []
    },
    {
      "cell_type": "code",
      "metadata": {
        "id": "f4FSwjJAOHEK"
      },
      "source": [
        "for i in list(x.keys()):\n",
        "  path=\"/content/drive/MyDrive/ML-DeepFakes-Detection/Kaggle_Dataset/extracted/dfdc_train_part_18/{name}\".format(name=i)\n",
        "  !cp {path} /content/Fake_Videos/"
      ],
      "execution_count": null,
      "outputs": []
    },
    {
      "cell_type": "code",
      "metadata": {
        "id": "tN5Nx3FzO7ZS"
      },
      "source": [
        ""
      ],
      "execution_count": null,
      "outputs": []
    },
    {
      "cell_type": "markdown",
      "metadata": {
        "id": "-gKCnQi7IIwE"
      },
      "source": [
        "\n",
        "\n",
        "# **Creating files from video**"
      ]
    },
    {
      "cell_type": "code",
      "metadata": {
        "id": "pycy9A16kVVt"
      },
      "source": [
        "!pip install wandb\n",
        "import wandb\n",
        "wandb.init()"
      ],
      "execution_count": null,
      "outputs": []
    },
    {
      "cell_type": "code",
      "metadata": {
        "id": "nSzjVozjG750"
      },
      "source": [
        "import cv2\n",
        "import numpy as np\n",
        "import dlib\n",
        "from google.colab.patches import cv2_imshow\n",
        "detector = dlib.get_frontal_face_detector()\n",
        "\n",
        "import numpy as np\n",
        "import pickle\n"
      ],
      "execution_count": null,
      "outputs": []
    },
    {
      "cell_type": "markdown",
      "metadata": {
        "id": "HohVdTBr2F2n"
      },
      "source": [
        "**Importing fake-videos**"
      ]
    },
    {
      "cell_type": "code",
      "metadata": {
        "id": "50dOO7Q-3AWd"
      },
      "source": [
        "x={\"iueofqnitn.mp4\": {\"label\": \"FAKE\", \"split\": \"train\", \"original\": \"xatruuhtpv.mp4\"}, \"vcbgvdnvlc.mp4\": {\"label\": \"FAKE\", \"split\": \"train\", \"original\": \"duplyxsudb.mp4\"}, \"btsyjxkhsz.mp4\": {\"label\": \"FAKE\", \"split\": \"train\", \"original\": \"sxwdupqijr.mp4\"}, \"vznxsshhdy.mp4\": {\"label\": \"FAKE\", \"split\": \"train\", \"original\": \"uhrvmearuj.mp4\"}, \"qjqafllxfz.mp4\": {\"label\": \"FAKE\", \"split\": \"train\", \"original\": \"zcbhzngluj.mp4\"}, \"mwapcvbqco.mp4\": {\"label\": \"FAKE\", \"split\": \"train\", \"original\": \"oihnqftsls.mp4\"}, \"cqahjlxssx.mp4\": {\"label\": \"FAKE\", \"split\": \"train\", \"original\": \"qgiygiqybs.mp4\"}, \"wcovfnrnev.mp4\": {\"label\": \"FAKE\", \"split\": \"train\", \"original\": \"fdgbgxddbt.mp4\"}, \"yazrsbwbnd.mp4\": {\"label\": \"FAKE\", \"split\": \"train\", \"original\": \"rswmrfllpo.mp4\"}, \"cedydlkhff.mp4\": {\"label\": \"FAKE\", \"split\": \"train\", \"original\": \"upezcrcdqz.mp4\"}, \"cqidzzgjjr.mp4\": {\"label\": \"FAKE\", \"split\": \"train\", \"original\": \"fwzjvfcdji.mp4\"}, \"kxspftcepn.mp4\": {\"label\": \"FAKE\", \"split\": \"train\", \"original\": \"vhkxxdxgcn.mp4\"}, \"hzoajqujew.mp4\": {\"label\": \"FAKE\", \"split\": \"train\", \"original\": \"lkmgyyyrpk.mp4\"}, \"pzntdswwjs.mp4\": {\"label\": \"FAKE\", \"split\": \"train\", \"original\": \"zovvcyafzh.mp4\"}, \"senrirjhwh.mp4\": {\"label\": \"FAKE\", \"split\": \"train\", \"original\": \"vngmafoyik.mp4\"}, \"zetkmzprvm.mp4\": {\"label\": \"FAKE\", \"split\": \"train\", \"original\": \"afqhjqevie.mp4\"}, \"bgneigofxm.mp4\": {\"label\": \"FAKE\", \"split\": \"train\", \"original\": \"zxuopquqrt.mp4\"}, \"nzxncyfeaj.mp4\": {\"label\": \"FAKE\", \"split\": \"train\", \"original\": \"msqdpgokcx.mp4\"}, \"ggysrtzwya.mp4\": {\"label\": \"FAKE\", \"split\": \"train\", \"original\": \"bpwynspgkx.mp4\"}, \"uoxlvtlelj.mp4\": {\"label\": \"FAKE\", \"split\": \"train\", \"original\": \"tjqrbghiiz.mp4\"}, \"asyvhuglhs.mp4\": {\"label\": \"FAKE\", \"split\": \"train\", \"original\": \"bpwynspgkx.mp4\"}, \"ttorxjzuwe.mp4\": {\"label\": \"FAKE\", \"split\": \"train\", \"original\": \"lwziasznji.mp4\"}, \"hxewjezhlo.mp4\": {\"label\": \"FAKE\", \"split\": \"train\", \"original\": \"fwzjvfcdji.mp4\"}, \"aydiylfrlh.mp4\": {\"label\": \"FAKE\", \"split\": \"train\", \"original\": \"lkmgyyyrpk.mp4\"}}"
      ],
      "execution_count": null,
      "outputs": []
    },
    {
      "cell_type": "code",
      "metadata": {
        "id": "Tc-rdg3t5MLZ"
      },
      "source": [
        "a=0"
      ],
      "execution_count": null,
      "outputs": []
    },
    {
      "cell_type": "code",
      "metadata": {
        "id": "EjvgjELf1fPb"
      },
      "source": [
        "a=0\n",
        "!mkdir Fake_Videos\n",
        "for i in list(x.keys()):\n",
        "  path=\"/content/drive/MyDrive/ML-DeepFakes-Detection/Kaggle_Dataset/extracted/dfdc_train_part_18/{name}\".format(name=i)\n",
        "  a=a+1\n",
        "  !cp {path} /content/Fake_Videos/{str(a)+'.mp4'}\n",
        "  "
      ],
      "execution_count": null,
      "outputs": []
    },
    {
      "cell_type": "markdown",
      "metadata": {
        "id": "ISIkGBSYySmy"
      },
      "source": [
        "**Import Real Videos**"
      ]
    },
    {
      "cell_type": "code",
      "metadata": {
        "id": "44lx00mDyvkg"
      },
      "source": [
        "b=0\n",
        "!mkdir Real_Videos\n",
        "for i in list(x.keys()):\n",
        "  dic=x[i]\n",
        "  print(dic['original'])\n",
        "  real=dic['original']\n",
        "  path=\"/content/drive/MyDrive/ML-DeepFakes-Detection/Kaggle_Dataset/extracted/dfdc_train_part_18/{name}\".format(name=real)\n",
        "  b=b+1\n",
        "  !cp {path} /content/Real_Videos/{str(b)+'.mp4'}\n"
      ],
      "execution_count": null,
      "outputs": []
    },
    {
      "cell_type": "code",
      "metadata": {
        "id": "6LhcLSPE7jQA"
      },
      "source": [
        "def video_to_file(video, fake_vid):\n",
        "  video_cap=cv2.VideoCapture(video)\n",
        "  \n",
        "  while(video_cap.isOpened()):\n",
        "    ret,frame=video_cap.read()\n",
        "    face = detector(frame, 1)\n",
        "    if (len(face)):\n",
        "      face=face[0]\n",
        "      crop_img=frame[face.top():face.bottom(),face.left():face.right()]\n",
        "      crop_img=cv2.resize(crop_img,(100,100))\n",
        "      #cv2_imshow(crop_img)\n",
        "      crop_img = np.array(crop_img)\n",
        "      cropped = np.expand_dims(crop_img, axis=0)\n",
        "      fake_vid=np.append(fake_vid, cropped, axis=0)\n",
        "\n",
        "    return fake_vid"
      ],
      "execution_count": null,
      "outputs": []
    },
    {
      "cell_type": "code",
      "metadata": {
        "id": "vyXLlaOn7kLl"
      },
      "source": [
        "directory='/content/Fake_Videos/'\n",
        "\n",
        "\n",
        "for i in range(1, a+1):\n",
        "  fake_vid=np.zeros((1,100,100,3))\n",
        "  dir= directory + str(i) + '.mp4'\n",
        "  print(dir)  \n",
        "  #fake_vid=video_to_file(dir, fake_vid)\n",
        "\n",
        "  video_cap=cv2.VideoCapture(dir)\n",
        "  while(video_cap.isOpened()):\n",
        "    ret,frame=video_cap.read()\n",
        "    if (ret==False):\n",
        "      break\n",
        "    face = detector(frame, 1)\n",
        "    if (len(face)):\n",
        "      face=face[0]\n",
        "      crop_img=frame[face.top():face.bottom(),face.left():face.right()]\n",
        "      crop_img=cv2.resize(crop_img,(100,100))\n",
        "      #cv2_imshow(crop_img)\n",
        "      crop_img = np.array(crop_img)\n",
        "      cropped = np.expand_dims(crop_img, axis=0)\n",
        "      fake_vid=np.append(fake_vid, cropped, axis=0)\n",
        "  save_name='/content/drive/MyDrive/ML-DeepFakes-Detection/saved-arrays/fake{number}'.format(number=i)\n",
        "  with open(save_name, 'wb') as f: \n",
        "    pickle.dump(fake_vid, f)\n"
      ],
      "execution_count": null,
      "outputs": []
    },
    {
      "cell_type": "code",
      "metadata": {
        "id": "N0m7XPsa9yPf"
      },
      "source": [
        "directory='/content/Real_Videos/'\n",
        "\n",
        "\n",
        "for i in range(1, b+1):\n",
        "  fake_vid=np.zeros((1,100,100,3))\n",
        "  dir= directory + str(i) + '.mp4'\n",
        "  print(dir)  \n",
        "  #fake_vid=video_to_file(dir, fake_vid)\n",
        "\n",
        "  video_cap=cv2.VideoCapture(dir)\n",
        "  while(video_cap.isOpened()):\n",
        "    ret,frame=video_cap.read()\n",
        "    if (ret==False):\n",
        "      break\n",
        "    face = detector(frame, 1)\n",
        "    if (len(face)):\n",
        "      face=face[0]\n",
        "      crop_img=frame[face.top():face.bottom(),face.left():face.right()]\n",
        "      crop_img=cv2.resize(crop_img,(100,100))\n",
        "      #cv2_imshow(crop_img)\n",
        "      crop_img = np.array(crop_img)\n",
        "      cropped = np.expand_dims(crop_img, axis=0)\n",
        "      fake_vid=np.append(fake_vid, cropped, axis=0)\n",
        "  save_name='/content/drive/MyDrive/ML-DeepFakes-Detection/saved-arrays/real{number}'.format(number=i)\n",
        "  with open(save_name, 'wb') as f: \n",
        "    pickle.dump(fake_vid, f)\n"
      ],
      "execution_count": null,
      "outputs": []
    },
    {
      "cell_type": "code",
      "metadata": {
        "colab": {
          "base_uri": "https://localhost:8080/"
        },
        "id": "iVkLE8iO51zV",
        "outputId": "547b53e2-1cef-4fc7-ae9c-984c9fe41f4b"
      },
      "source": [
        "print(fake_vid.shape)"
      ],
      "execution_count": null,
      "outputs": [
        {
          "output_type": "stream",
          "text": [
            "(17, 100, 100, 3)\n"
          ],
          "name": "stdout"
        }
      ]
    },
    {
      "cell_type": "code",
      "metadata": {
        "id": "hSCCG-785FaF"
      },
      "source": [
        "new=fake_vid[1:,:,:,:]"
      ],
      "execution_count": null,
      "outputs": []
    },
    {
      "cell_type": "code",
      "metadata": {
        "colab": {
          "base_uri": "https://localhost:8080/",
          "height": 116
        },
        "id": "3RwIIB495M6q",
        "outputId": "da333fde-8fed-4e29-ad5c-3c7744186863"
      },
      "source": [
        "cv2_imshow(new[0])"
      ],
      "execution_count": null,
      "outputs": [
        {
          "output_type": "display_data",
          "data": {
            "image/png": "[encoded data removed]",
            "text/plain": [
              "<PIL.Image.Image image mode=RGB size=100x100 at 0x7FF861022470>"
            ]
          },
          "metadata": {
            "tags": []
          }
        }
      ]
    },
    {
      "cell_type": "code",
      "metadata": {
        "colab": {
          "base_uri": "https://localhost:8080/",
          "height": 116
        },
        "id": "ZcZ6gavC5ght",
        "outputId": "fb91008c-4271-4d12-cb0e-eedb0044cc30"
      },
      "source": [
        "cv2_imshow(fake_vid[1])"
      ],
      "execution_count": null,
      "outputs": [
        {
          "output_type": "display_data",
          "data": {
            "image/png": "[encoded data removed]",
            "text/plain": [
              "<PIL.Image.Image image mode=RGB size=100x100 at 0x7FF81BB77668>"
            ]
          },
          "metadata": {
            "tags": []
          }
        }
      ]
    },
    {
      "cell_type": "markdown",
      "metadata": {
        "id": "7aihBc821SVn"
      },
      "source": [
        "**Saving variable as file**"
      ]
    },
    {
      "cell_type": "code",
      "metadata": {
        "id": "QaxP42V2z-Cw"
      },
      "source": [
        "import pickle"
      ],
      "execution_count": null,
      "outputs": []
    },
    {
      "cell_type": "code",
      "metadata": {
        "id": "fvxEK-Cn0AGz"
      },
      "source": [
        "# obj0, obj1, obj2 are created here...\n",
        "\n",
        "# Saving the objects:\n",
        "with open('objs.pkl', 'w') as f:  # Python 3: open(..., 'wb')\n",
        "    pickle.dump([obj0, obj1, obj2], f)\n",
        "\n",
        "# Getting back the objects:\n",
        "with open('objs.pkl') as f:  # Python 3: open(..., 'rb')\n",
        "    obj0, obj1, obj2 = pickle.load(f)"
      ],
      "execution_count": null,
      "outputs": []
    },
    {
      "cell_type": "code",
      "metadata": {
        "id": "oL7Kd9H-0bs-"
      },
      "source": [
        "video_cap=cv2.VideoCapture('/content/Videos/1.mp4')"
      ],
      "execution_count": null,
      "outputs": []
    },
    {
      "cell_type": "code",
      "metadata": {
        "id": "WvEzUEzW0sU9"
      },
      "source": [
        "with open('objs.pkl', 'wb') as f:  # Python 3: open(..., 'wb')\n",
        "    pickle.dump(fake_vid, f)"
      ],
      "execution_count": null,
      "outputs": []
    },
    {
      "cell_type": "code",
      "metadata": {
        "id": "rRw569qS02Fl"
      },
      "source": [
        "with open('objs.pkl', 'rb') as f:  # Python 3: open(..., 'rb')\n",
        "    new_array = pickle.load(f)"
      ],
      "execution_count": null,
      "outputs": []
    },
    {
      "cell_type": "code",
      "metadata": {
        "id": "V1FRZSdn1EUT"
      },
      "source": [
        "#! rm -r Fake_Videos"
      ],
      "execution_count": null,
      "outputs": []
    },
    {
      "cell_type": "code",
      "metadata": {
        "id": "-vwy_zT-2udE"
      },
      "source": [
        ""
      ],
      "execution_count": null,
      "outputs": []
    },
    {
      "cell_type": "markdown",
      "metadata": {
        "id": "e3jfMnkn6DbN"
      },
      "source": [
        "# **Debugging**\n"
      ]
    },
    {
      "cell_type": "code",
      "metadata": {
        "id": "AV4OTRdD6a9S"
      },
      "source": [
        "video123=cv2.VideoCapture('/content/Fake_Videos/2.mp4')"
      ],
      "execution_count": null,
      "outputs": []
    },
    {
      "cell_type": "code",
      "metadata": {
        "id": "VXEcgpzi6DMs"
      },
      "source": [
        "while(1):\n",
        "  ret,frame=video123.read()\n",
        "  face = detector(frame, 1)[0]\n",
        "  crop_img=frame[face.top():face.bottom(),face.left():face.right()]\n",
        "  crop_img=cv2.resize(crop_img,(100,100))\n",
        "  cv2_imshow(crop_img)\n",
        "  crop_img = np.array(crop_img)\n",
        "  cropped = np.expand_dims(crop_img, axis=0)\n",
        "  fake_vid=np.append(fake_vid, cropped, axis=0)"
      ],
      "execution_count": null,
      "outputs": []
    },
    {
      "cell_type": "code",
      "metadata": {
        "colab": {
          "base_uri": "https://localhost:8080/",
          "height": 116
        },
        "id": "7oI45Xs56sG2",
        "outputId": "74db057c-8b1f-4ef2-880b-c8af55d917b7"
      },
      "source": [
        "cv2_imshow(fake_vid[19])"
      ],
      "execution_count": null,
      "outputs": [
        {
          "output_type": "display_data",
          "data": {
            "image/png": "[encoded data removed]",
            "text/plain": [
              "<PIL.Image.Image image mode=RGB size=100x100 at 0x7F537ACB3E48>"
            ]
          },
          "metadata": {
            "tags": []
          }
        }
      ]
    },
    {
      "cell_type": "code",
      "metadata": {
        "id": "PypAweAf8SCC"
      },
      "source": [
        ""
      ],
      "execution_count": null,
      "outputs": []
    }
  ]
}